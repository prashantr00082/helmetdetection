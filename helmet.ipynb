{
 "cells": [
  {
   "cell_type": "code",
   "execution_count": 1,
   "id": "8fb5fcdf",
   "metadata": {
    "_cell_guid": "b1076dfc-b9ad-4769-8c92-a6c4dae69d19",
    "_uuid": "8f2839f25d086af736a60e9eeb907d3b93b6e0e5",
    "execution": {
     "iopub.execute_input": "2024-08-09T13:52:39.094694Z",
     "iopub.status.busy": "2024-08-09T13:52:39.093926Z",
     "iopub.status.idle": "2024-08-09T13:52:39.869703Z",
     "shell.execute_reply": "2024-08-09T13:52:39.868890Z"
    },
    "papermill": {
     "duration": 0.78616,
     "end_time": "2024-08-09T13:52:39.873261",
     "exception": false,
     "start_time": "2024-08-09T13:52:39.087101",
     "status": "completed"
    },
    "tags": []
   },
   "outputs": [
    {
     "name": "stdout",
     "output_type": "stream",
     "text": [
      "/kaggle/input/video1/videoplayback.mp4\n",
      "/kaggle/input/videos/video.mp4\n",
      "/kaggle/input/rider-with-helmet-without-helmet-number-plate/coco128.yaml\n",
      "/kaggle/input/rider-with-helmet-without-helmet-number-plate/classes.txt\n",
      "/kaggle/input/rider-with-helmet-without-helmet-number-plate/val/labels.cache\n",
      "/kaggle/input/rider-with-helmet-without-helmet-number-plate/val/labels/new28.txt\n",
      "/kaggle/input/rider-with-helmet-without-helmet-number-plate/val/labels/new4.txt\n",
      "/kaggle/input/rider-with-helmet-without-helmet-number-plate/val/labels/new115.txt\n",
      "/kaggle/input/rider-with-helmet-without-helmet-number-plate/val/labels/new80.txt\n",
      "/kaggle/input/rider-with-helmet-without-helmet-number-plate/val/labels/new47.txt\n",
      "/kaggle/input/rider-with-helmet-without-helmet-number-plate/val/labels/new127.txt\n",
      "/kaggle/input/rider-with-helmet-without-helmet-number-plate/val/labels/new137.txt\n",
      "/kaggle/input/rider-with-helmet-without-helmet-number-plate/val/labels/new9.txt\n",
      "/kaggle/input/rider-with-helmet-without-helmet-number-plate/val/labels/new74.txt\n",
      "/kaggle/input/rider-with-helmet-without-helmet-number-plate/val/labels/new89.txt\n",
      "/kaggle/input/rider-with-helmet-without-helmet-number-plate/val/labels/new49.txt\n",
      "/kaggle/input/rider-with-helmet-without-helmet-number-plate/val/labels/new73.txt\n",
      "/kaggle/input/rider-with-helmet-without-helmet-number-plate/val/labels/new26.txt\n",
      "/kaggle/input/rider-with-helmet-without-helmet-number-plate/val/labels/new94.txt\n",
      "/kaggle/input/rider-with-helmet-without-helmet-number-plate/val/labels/new86.txt\n",
      "/kaggle/input/rider-with-helmet-without-helmet-number-plate/val/labels/new56.txt\n",
      "/kaggle/input/rider-with-helmet-without-helmet-number-plate/val/labels/new41.txt\n",
      "/kaggle/input/rider-with-helmet-without-helmet-number-plate/val/labels/new113.txt\n",
      "/kaggle/input/rider-with-helmet-without-helmet-number-plate/val/labels/new98.txt\n",
      "/kaggle/input/rider-with-helmet-without-helmet-number-plate/val/labels/new0.txt\n",
      "/kaggle/input/rider-with-helmet-without-helmet-number-plate/val/images/new28.jpg\n",
      "/kaggle/input/rider-with-helmet-without-helmet-number-plate/val/images/new56.jpg\n",
      "/kaggle/input/rider-with-helmet-without-helmet-number-plate/val/images/new73.jpg\n",
      "/kaggle/input/rider-with-helmet-without-helmet-number-plate/val/images/new137.jpg\n",
      "/kaggle/input/rider-with-helmet-without-helmet-number-plate/val/images/new47.jpg\n",
      "/kaggle/input/rider-with-helmet-without-helmet-number-plate/val/images/new113.jpg\n",
      "/kaggle/input/rider-with-helmet-without-helmet-number-plate/val/images/new49.jpg\n",
      "/kaggle/input/rider-with-helmet-without-helmet-number-plate/val/images/new41.jpg\n",
      "/kaggle/input/rider-with-helmet-without-helmet-number-plate/val/images/new127.jpg\n",
      "/kaggle/input/rider-with-helmet-without-helmet-number-plate/val/images/new94.jpg\n",
      "/kaggle/input/rider-with-helmet-without-helmet-number-plate/val/images/new98.jpg\n",
      "/kaggle/input/rider-with-helmet-without-helmet-number-plate/val/images/new74.jpg\n",
      "/kaggle/input/rider-with-helmet-without-helmet-number-plate/val/images/new4.jpg\n",
      "/kaggle/input/rider-with-helmet-without-helmet-number-plate/val/images/new115.jpg\n",
      "/kaggle/input/rider-with-helmet-without-helmet-number-plate/val/images/new89.jpg\n",
      "/kaggle/input/rider-with-helmet-without-helmet-number-plate/val/images/new26.jpg\n",
      "/kaggle/input/rider-with-helmet-without-helmet-number-plate/val/images/new86.jpg\n",
      "/kaggle/input/rider-with-helmet-without-helmet-number-plate/val/images/new9.jpg\n",
      "/kaggle/input/rider-with-helmet-without-helmet-number-plate/val/images/new0.jpg\n",
      "/kaggle/input/rider-with-helmet-without-helmet-number-plate/val/images/new80.jpg\n",
      "/kaggle/input/rider-with-helmet-without-helmet-number-plate/train/labels.cache\n",
      "/kaggle/input/rider-with-helmet-without-helmet-number-plate/train/labels/new140.txt\n",
      "/kaggle/input/rider-with-helmet-without-helmet-number-plate/train/labels/new16.txt\n",
      "/kaggle/input/rider-with-helmet-without-helmet-number-plate/train/labels/new81.txt\n",
      "/kaggle/input/rider-with-helmet-without-helmet-number-plate/train/labels/new1.txt\n",
      "/kaggle/input/rider-with-helmet-without-helmet-number-plate/train/labels/new72.txt\n",
      "/kaggle/input/rider-with-helmet-without-helmet-number-plate/train/labels/new84.txt\n",
      "/kaggle/input/rider-with-helmet-without-helmet-number-plate/train/labels/new118.txt\n",
      "/kaggle/input/rider-with-helmet-without-helmet-number-plate/train/labels/new10.txt\n",
      "/kaggle/input/rider-with-helmet-without-helmet-number-plate/train/labels/new46.txt\n",
      "/kaggle/input/rider-with-helmet-without-helmet-number-plate/train/labels/new78.txt\n",
      "/kaggle/input/rider-with-helmet-without-helmet-number-plate/train/labels/new108.txt\n",
      "/kaggle/input/rider-with-helmet-without-helmet-number-plate/train/labels/new144.txt\n",
      "/kaggle/input/rider-with-helmet-without-helmet-number-plate/train/labels/new141.txt\n",
      "/kaggle/input/rider-with-helmet-without-helmet-number-plate/train/labels/new87.txt\n",
      "/kaggle/input/rider-with-helmet-without-helmet-number-plate/train/labels/new139.txt\n",
      "/kaggle/input/rider-with-helmet-without-helmet-number-plate/train/labels/new123.txt\n",
      "/kaggle/input/rider-with-helmet-without-helmet-number-plate/train/labels/new124.txt\n",
      "/kaggle/input/rider-with-helmet-without-helmet-number-plate/train/labels/new90.txt\n",
      "/kaggle/input/rider-with-helmet-without-helmet-number-plate/train/labels/new44.txt\n",
      "/kaggle/input/rider-with-helmet-without-helmet-number-plate/train/labels/new31.txt\n",
      "/kaggle/input/rider-with-helmet-without-helmet-number-plate/train/labels/new129.txt\n",
      "/kaggle/input/rider-with-helmet-without-helmet-number-plate/train/labels/new117.txt\n",
      "/kaggle/input/rider-with-helmet-without-helmet-number-plate/train/labels/new45.txt\n",
      "/kaggle/input/rider-with-helmet-without-helmet-number-plate/train/labels/new130.txt\n",
      "/kaggle/input/rider-with-helmet-without-helmet-number-plate/train/labels/new128.txt\n",
      "/kaggle/input/rider-with-helmet-without-helmet-number-plate/train/labels/new39.txt\n",
      "/kaggle/input/rider-with-helmet-without-helmet-number-plate/train/labels/new138.txt\n",
      "/kaggle/input/rider-with-helmet-without-helmet-number-plate/train/labels/new22.txt\n",
      "/kaggle/input/rider-with-helmet-without-helmet-number-plate/train/labels/new134.txt\n",
      "/kaggle/input/rider-with-helmet-without-helmet-number-plate/train/labels/new71.txt\n",
      "/kaggle/input/rider-with-helmet-without-helmet-number-plate/train/labels/new112.txt\n",
      "/kaggle/input/rider-with-helmet-without-helmet-number-plate/train/labels/new60.txt\n",
      "/kaggle/input/rider-with-helmet-without-helmet-number-plate/train/labels/new7.txt\n",
      "/kaggle/input/rider-with-helmet-without-helmet-number-plate/train/labels/new20.txt\n",
      "/kaggle/input/rider-with-helmet-without-helmet-number-plate/train/labels/new3.txt\n",
      "/kaggle/input/rider-with-helmet-without-helmet-number-plate/train/labels/new8.txt\n",
      "/kaggle/input/rider-with-helmet-without-helmet-number-plate/train/labels/new109.txt\n",
      "/kaggle/input/rider-with-helmet-without-helmet-number-plate/train/labels/new43.txt\n",
      "/kaggle/input/rider-with-helmet-without-helmet-number-plate/train/labels/new68.txt\n",
      "/kaggle/input/rider-with-helmet-without-helmet-number-plate/train/labels/new13.txt\n",
      "/kaggle/input/rider-with-helmet-without-helmet-number-plate/train/labels/new91.txt\n",
      "/kaggle/input/rider-with-helmet-without-helmet-number-plate/train/labels/new133.txt\n",
      "/kaggle/input/rider-with-helmet-without-helmet-number-plate/train/labels/new27.txt\n",
      "/kaggle/input/rider-with-helmet-without-helmet-number-plate/train/labels/new135.txt\n",
      "/kaggle/input/rider-with-helmet-without-helmet-number-plate/train/labels/new5.txt\n",
      "/kaggle/input/rider-with-helmet-without-helmet-number-plate/train/labels/new100.txt\n",
      "/kaggle/input/rider-with-helmet-without-helmet-number-plate/train/labels/new53.txt\n",
      "/kaggle/input/rider-with-helmet-without-helmet-number-plate/train/labels/new35.txt\n",
      "/kaggle/input/rider-with-helmet-without-helmet-number-plate/train/labels/new48.txt\n",
      "/kaggle/input/rider-with-helmet-without-helmet-number-plate/train/labels/new63.txt\n",
      "/kaggle/input/rider-with-helmet-without-helmet-number-plate/train/labels/new11.txt\n",
      "/kaggle/input/rider-with-helmet-without-helmet-number-plate/train/labels/new42.txt\n",
      "/kaggle/input/rider-with-helmet-without-helmet-number-plate/train/labels/new122.txt\n",
      "/kaggle/input/rider-with-helmet-without-helmet-number-plate/train/labels/new92.txt\n",
      "/kaggle/input/rider-with-helmet-without-helmet-number-plate/train/labels/new110.txt\n",
      "/kaggle/input/rider-with-helmet-without-helmet-number-plate/train/labels/new15.txt\n",
      "/kaggle/input/rider-with-helmet-without-helmet-number-plate/train/labels/new61.txt\n",
      "/kaggle/input/rider-with-helmet-without-helmet-number-plate/train/labels/new52.txt\n",
      "/kaggle/input/rider-with-helmet-without-helmet-number-plate/train/labels/new121.txt\n",
      "/kaggle/input/rider-with-helmet-without-helmet-number-plate/train/labels/new79.txt\n",
      "/kaggle/input/rider-with-helmet-without-helmet-number-plate/train/labels/new2.txt\n",
      "/kaggle/input/rider-with-helmet-without-helmet-number-plate/train/labels/new114.txt\n",
      "/kaggle/input/rider-with-helmet-without-helmet-number-plate/train/labels/new142.txt\n",
      "/kaggle/input/rider-with-helmet-without-helmet-number-plate/train/labels/new64.txt\n",
      "/kaggle/input/rider-with-helmet-without-helmet-number-plate/train/labels/new103.txt\n",
      "/kaggle/input/rider-with-helmet-without-helmet-number-plate/train/labels/new58.txt\n",
      "/kaggle/input/rider-with-helmet-without-helmet-number-plate/train/labels/new119.txt\n",
      "/kaggle/input/rider-with-helmet-without-helmet-number-plate/train/labels/new93.txt\n",
      "/kaggle/input/rider-with-helmet-without-helmet-number-plate/train/labels/new55.txt\n",
      "/kaggle/input/rider-with-helmet-without-helmet-number-plate/train/labels/new6.txt\n",
      "/kaggle/input/rider-with-helmet-without-helmet-number-plate/train/labels/new77.txt\n",
      "/kaggle/input/rider-with-helmet-without-helmet-number-plate/train/labels/new125.txt\n",
      "/kaggle/input/rider-with-helmet-without-helmet-number-plate/train/labels/new143.txt\n",
      "/kaggle/input/rider-with-helmet-without-helmet-number-plate/train/labels/new96.txt\n",
      "/kaggle/input/rider-with-helmet-without-helmet-number-plate/train/labels/new29.txt\n",
      "/kaggle/input/rider-with-helmet-without-helmet-number-plate/train/labels/new97.txt\n",
      "/kaggle/input/rider-with-helmet-without-helmet-number-plate/train/labels/new30.txt\n",
      "/kaggle/input/rider-with-helmet-without-helmet-number-plate/train/labels/new136.txt\n",
      "/kaggle/input/rider-with-helmet-without-helmet-number-plate/train/labels/new25.txt\n",
      "/kaggle/input/rider-with-helmet-without-helmet-number-plate/train/labels/new101.txt\n",
      "/kaggle/input/rider-with-helmet-without-helmet-number-plate/train/labels/new102.txt\n",
      "/kaggle/input/rider-with-helmet-without-helmet-number-plate/train/labels/new83.txt\n",
      "/kaggle/input/rider-with-helmet-without-helmet-number-plate/train/labels/new75.txt\n",
      "/kaggle/input/rider-with-helmet-without-helmet-number-plate/train/labels/new70.txt\n",
      "/kaggle/input/rider-with-helmet-without-helmet-number-plate/train/labels/new69.txt\n",
      "/kaggle/input/rider-with-helmet-without-helmet-number-plate/train/labels/new18.txt\n",
      "/kaggle/input/rider-with-helmet-without-helmet-number-plate/train/labels/new57.txt\n",
      "/kaggle/input/rider-with-helmet-without-helmet-number-plate/train/labels/new132.txt\n",
      "/kaggle/input/rider-with-helmet-without-helmet-number-plate/train/labels/new51.txt\n",
      "/kaggle/input/rider-with-helmet-without-helmet-number-plate/train/labels/new82.txt\n",
      "/kaggle/input/rider-with-helmet-without-helmet-number-plate/train/labels/new40.txt\n",
      "/kaggle/input/rider-with-helmet-without-helmet-number-plate/train/labels/new85.txt\n",
      "/kaggle/input/rider-with-helmet-without-helmet-number-plate/train/labels/new66.txt\n",
      "/kaggle/input/rider-with-helmet-without-helmet-number-plate/train/labels/new76.txt\n",
      "/kaggle/input/rider-with-helmet-without-helmet-number-plate/train/labels/new37.txt\n",
      "/kaggle/input/rider-with-helmet-without-helmet-number-plate/train/labels/new120.txt\n",
      "/kaggle/input/rider-with-helmet-without-helmet-number-plate/train/labels/new95.txt\n",
      "/kaggle/input/rider-with-helmet-without-helmet-number-plate/train/labels/new54.txt\n",
      "/kaggle/input/rider-with-helmet-without-helmet-number-plate/train/labels/new116.txt\n",
      "/kaggle/input/rider-with-helmet-without-helmet-number-plate/train/labels/new21.txt\n",
      "/kaggle/input/rider-with-helmet-without-helmet-number-plate/train/labels/new50.txt\n",
      "/kaggle/input/rider-with-helmet-without-helmet-number-plate/train/labels/new126.txt\n",
      "/kaggle/input/rider-with-helmet-without-helmet-number-plate/train/labels/new36.txt\n",
      "/kaggle/input/rider-with-helmet-without-helmet-number-plate/train/labels/new106.txt\n",
      "/kaggle/input/rider-with-helmet-without-helmet-number-plate/train/images/new15.jpg\n",
      "/kaggle/input/rider-with-helmet-without-helmet-number-plate/train/images/new20.jpg\n",
      "/kaggle/input/rider-with-helmet-without-helmet-number-plate/train/images/new37.jpg\n",
      "/kaggle/input/rider-with-helmet-without-helmet-number-plate/train/images/new83.jpg\n",
      "/kaggle/input/rider-with-helmet-without-helmet-number-plate/train/images/new71.jpg\n",
      "/kaggle/input/rider-with-helmet-without-helmet-number-plate/train/images/new100.jpg\n",
      "/kaggle/input/rider-with-helmet-without-helmet-number-plate/train/images/new114.jpg\n",
      "/kaggle/input/rider-with-helmet-without-helmet-number-plate/train/images/new61.jpg\n",
      "/kaggle/input/rider-with-helmet-without-helmet-number-plate/train/images/new72.jpg\n",
      "/kaggle/input/rider-with-helmet-without-helmet-number-plate/train/images/new144.png\n",
      "/kaggle/input/rider-with-helmet-without-helmet-number-plate/train/images/new143.png\n",
      "/kaggle/input/rider-with-helmet-without-helmet-number-plate/train/images/new128.jpg\n",
      "/kaggle/input/rider-with-helmet-without-helmet-number-plate/train/images/new48.jpg\n",
      "/kaggle/input/rider-with-helmet-without-helmet-number-plate/train/images/new50.jpg\n",
      "/kaggle/input/rider-with-helmet-without-helmet-number-plate/train/images/new85.jpg\n",
      "/kaggle/input/rider-with-helmet-without-helmet-number-plate/train/images/new96.jpg\n",
      "/kaggle/input/rider-with-helmet-without-helmet-number-plate/train/images/new81.jpg\n",
      "/kaggle/input/rider-with-helmet-without-helmet-number-plate/train/images/new45.jpg\n",
      "/kaggle/input/rider-with-helmet-without-helmet-number-plate/train/images/new82.jpg\n",
      "/kaggle/input/rider-with-helmet-without-helmet-number-plate/train/images/new123.jpg\n",
      "/kaggle/input/rider-with-helmet-without-helmet-number-plate/train/images/new133.jpg\n",
      "/kaggle/input/rider-with-helmet-without-helmet-number-plate/train/images/new77.jpg\n",
      "/kaggle/input/rider-with-helmet-without-helmet-number-plate/train/images/new69.jpg\n",
      "/kaggle/input/rider-with-helmet-without-helmet-number-plate/train/images/new13.jpg\n",
      "/kaggle/input/rider-with-helmet-without-helmet-number-plate/train/images/new10.jpg\n",
      "/kaggle/input/rider-with-helmet-without-helmet-number-plate/train/images/new129.jpg\n",
      "/kaggle/input/rider-with-helmet-without-helmet-number-plate/train/images/new120.jpg\n",
      "/kaggle/input/rider-with-helmet-without-helmet-number-plate/train/images/new7.jpg\n",
      "/kaggle/input/rider-with-helmet-without-helmet-number-plate/train/images/new29.jpg\n",
      "/kaggle/input/rider-with-helmet-without-helmet-number-plate/train/images/new118.jpg\n",
      "/kaggle/input/rider-with-helmet-without-helmet-number-plate/train/images/new55.jpg\n",
      "/kaggle/input/rider-with-helmet-without-helmet-number-plate/train/images/new135.jpg\n",
      "/kaggle/input/rider-with-helmet-without-helmet-number-plate/train/images/new2.jpg\n",
      "/kaggle/input/rider-with-helmet-without-helmet-number-plate/train/images/new52.jpg\n",
      "/kaggle/input/rider-with-helmet-without-helmet-number-plate/train/images/new18.jpg\n",
      "/kaggle/input/rider-with-helmet-without-helmet-number-plate/train/images/new116.jpg\n",
      "/kaggle/input/rider-with-helmet-without-helmet-number-plate/train/images/new8.jpg\n",
      "/kaggle/input/rider-with-helmet-without-helmet-number-plate/train/images/new58.jpg\n",
      "/kaggle/input/rider-with-helmet-without-helmet-number-plate/train/images/new22.jpg\n",
      "/kaggle/input/rider-with-helmet-without-helmet-number-plate/train/images/new142.png\n",
      "/kaggle/input/rider-with-helmet-without-helmet-number-plate/train/images/new35.jpg\n",
      "/kaggle/input/rider-with-helmet-without-helmet-number-plate/train/images/new46.jpg\n",
      "/kaggle/input/rider-with-helmet-without-helmet-number-plate/train/images/new90.jpg\n",
      "/kaggle/input/rider-with-helmet-without-helmet-number-plate/train/images/new93.jpg\n",
      "/kaggle/input/rider-with-helmet-without-helmet-number-plate/train/images/new117.jpg\n",
      "/kaggle/input/rider-with-helmet-without-helmet-number-plate/train/images/new95.jpg\n",
      "/kaggle/input/rider-with-helmet-without-helmet-number-plate/train/images/new91.jpg\n",
      "/kaggle/input/rider-with-helmet-without-helmet-number-plate/train/images/new121.jpg\n",
      "/kaggle/input/rider-with-helmet-without-helmet-number-plate/train/images/new119.jpg\n",
      "/kaggle/input/rider-with-helmet-without-helmet-number-plate/train/images/new21.jpg\n",
      "/kaggle/input/rider-with-helmet-without-helmet-number-plate/train/images/new108.jpg\n",
      "/kaggle/input/rider-with-helmet-without-helmet-number-plate/train/images/new109.jpg\n",
      "/kaggle/input/rider-with-helmet-without-helmet-number-plate/train/images/new112.jpg\n",
      "/kaggle/input/rider-with-helmet-without-helmet-number-plate/train/images/new68.jpg\n",
      "/kaggle/input/rider-with-helmet-without-helmet-number-plate/train/images/new60.jpg\n",
      "/kaggle/input/rider-with-helmet-without-helmet-number-plate/train/images/new134.jpg\n",
      "/kaggle/input/rider-with-helmet-without-helmet-number-plate/train/images/new64.jpg\n",
      "/kaggle/input/rider-with-helmet-without-helmet-number-plate/train/images/new122.jpg\n",
      "/kaggle/input/rider-with-helmet-without-helmet-number-plate/train/images/new25.jpg\n",
      "/kaggle/input/rider-with-helmet-without-helmet-number-plate/train/images/new130.jpg\n",
      "/kaggle/input/rider-with-helmet-without-helmet-number-plate/train/images/new92.jpg\n",
      "/kaggle/input/rider-with-helmet-without-helmet-number-plate/train/images/new132.jpg\n",
      "/kaggle/input/rider-with-helmet-without-helmet-number-plate/train/images/new124.jpg\n",
      "/kaggle/input/rider-with-helmet-without-helmet-number-plate/train/images/new6.jpg\n",
      "/kaggle/input/rider-with-helmet-without-helmet-number-plate/train/images/new44.jpg\n",
      "/kaggle/input/rider-with-helmet-without-helmet-number-plate/train/images/new103.jpg\n",
      "/kaggle/input/rider-with-helmet-without-helmet-number-plate/train/images/new141.jpg\n",
      "/kaggle/input/rider-with-helmet-without-helmet-number-plate/train/images/new87.jpg\n",
      "/kaggle/input/rider-with-helmet-without-helmet-number-plate/train/images/new42.jpg\n",
      "/kaggle/input/rider-with-helmet-without-helmet-number-plate/train/images/new66.jpg\n",
      "/kaggle/input/rider-with-helmet-without-helmet-number-plate/train/images/new1.jpg\n",
      "/kaggle/input/rider-with-helmet-without-helmet-number-plate/train/images/new39.jpg\n",
      "/kaggle/input/rider-with-helmet-without-helmet-number-plate/train/images/new53.jpg\n",
      "/kaggle/input/rider-with-helmet-without-helmet-number-plate/train/images/new101.jpg\n",
      "/kaggle/input/rider-with-helmet-without-helmet-number-plate/train/images/new27.jpg\n",
      "/kaggle/input/rider-with-helmet-without-helmet-number-plate/train/images/new31.jpg\n",
      "/kaggle/input/rider-with-helmet-without-helmet-number-plate/train/images/new70.jpg\n",
      "/kaggle/input/rider-with-helmet-without-helmet-number-plate/train/images/new78.jpg\n",
      "/kaggle/input/rider-with-helmet-without-helmet-number-plate/train/images/new125.jpg\n",
      "/kaggle/input/rider-with-helmet-without-helmet-number-plate/train/images/new30.jpg\n",
      "/kaggle/input/rider-with-helmet-without-helmet-number-plate/train/images/new51.jpg\n",
      "/kaggle/input/rider-with-helmet-without-helmet-number-plate/train/images/new97.jpg\n",
      "/kaggle/input/rider-with-helmet-without-helmet-number-plate/train/images/new79.jpg\n",
      "/kaggle/input/rider-with-helmet-without-helmet-number-plate/train/images/new76.jpg\n",
      "/kaggle/input/rider-with-helmet-without-helmet-number-plate/train/images/new54.jpg\n",
      "/kaggle/input/rider-with-helmet-without-helmet-number-plate/train/images/new126.jpg\n",
      "/kaggle/input/rider-with-helmet-without-helmet-number-plate/train/images/new63.jpg\n",
      "/kaggle/input/rider-with-helmet-without-helmet-number-plate/train/images/new16.jpg\n",
      "/kaggle/input/rider-with-helmet-without-helmet-number-plate/train/images/new138.jpg\n",
      "/kaggle/input/rider-with-helmet-without-helmet-number-plate/train/images/new102.jpg\n",
      "/kaggle/input/rider-with-helmet-without-helmet-number-plate/train/images/new84.jpg\n",
      "/kaggle/input/rider-with-helmet-without-helmet-number-plate/train/images/new75.jpg\n",
      "/kaggle/input/rider-with-helmet-without-helmet-number-plate/train/images/new110.jpg\n",
      "/kaggle/input/rider-with-helmet-without-helmet-number-plate/train/images/new36.jpg\n",
      "/kaggle/input/rider-with-helmet-without-helmet-number-plate/train/images/new136.jpg\n",
      "/kaggle/input/rider-with-helmet-without-helmet-number-plate/train/images/new40.jpg\n",
      "/kaggle/input/rider-with-helmet-without-helmet-number-plate/train/images/new57.jpg\n",
      "/kaggle/input/rider-with-helmet-without-helmet-number-plate/train/images/new140.jpg\n",
      "/kaggle/input/rider-with-helmet-without-helmet-number-plate/train/images/new11.jpg\n",
      "/kaggle/input/rider-with-helmet-without-helmet-number-plate/train/images/new43.jpg\n",
      "/kaggle/input/rider-with-helmet-without-helmet-number-plate/train/images/new3.jpg\n",
      "/kaggle/input/rider-with-helmet-without-helmet-number-plate/train/images/new106.jpg\n",
      "/kaggle/input/rider-with-helmet-without-helmet-number-plate/train/images/new5.jpg\n",
      "/kaggle/input/rider-with-helmet-without-helmet-number-plate/train/images/new139.jpg\n"
     ]
    }
   ],
   "source": [
    "# This Python 3 environment comes with many helpful analytics libraries installed\n",
    "# It is defined by the kaggle/python Docker image: https://github.com/kaggle/docker-python\n",
    "# For example, here's several helpful packages to load\n",
    "\n",
    "import numpy as np # linear algebra\n",
    "import pandas as pd # data processing, CSV file I/O (e.g. pd.read_csv)\n",
    "\n",
    "# Input data files are available in the read-only \"../input/\" directory\n",
    "# For example, running this (by clicking run or pressing Shift+Enter) will list all files under the input directory\n",
    "\n",
    "import os\n",
    "for dirname, _, filenames in os.walk('/kaggle/input'):\n",
    "    for filename in filenames:\n",
    "        print(os.path.join(dirname, filename))\n",
    "\n",
    "# You can write up to 20GB to the current directory (/kaggle/working/) that gets preserved as output when you create a version using \"Save & Run All\" \n",
    "# You can also write temporary files to /kaggle/temp/, but they won't be saved outside of the current session"
   ]
  },
  {
   "cell_type": "code",
   "execution_count": 2,
   "id": "dba328bc",
   "metadata": {
    "execution": {
     "iopub.execute_input": "2024-08-09T13:52:39.885829Z",
     "iopub.status.busy": "2024-08-09T13:52:39.885475Z",
     "iopub.status.idle": "2024-08-09T13:52:39.911952Z",
     "shell.execute_reply": "2024-08-09T13:52:39.911261Z"
    },
    "papermill": {
     "duration": 0.034678,
     "end_time": "2024-08-09T13:52:39.913836",
     "exception": false,
     "start_time": "2024-08-09T13:52:39.879158",
     "status": "completed"
    },
    "tags": []
   },
   "outputs": [],
   "source": [
    "import yaml\n",
    "\n",
    "data = {\n",
    "    'train': '/kaggle/input/rider-with-helmet-without-helmet-number-plate/train',\n",
    "    'val': '/kaggle/input/rider-with-helmet-without-helmet-number-plate/val',\n",
    "    'nc': 4,\n",
    "    'names': [\n",
    "        'with helmet',\n",
    "        'without helmet',\n",
    "        'rider',\n",
    "        'number plate'\n",
    "    ]\n",
    "}\n",
    "\n",
    "with open('/kaggle/working/data.yaml', 'w') as file:\n",
    "    yaml.dump(data, file)"
   ]
  },
  {
   "cell_type": "code",
   "execution_count": 3,
   "id": "f7bae3f1",
   "metadata": {
    "execution": {
     "iopub.execute_input": "2024-08-09T13:52:39.925614Z",
     "iopub.status.busy": "2024-08-09T13:52:39.925361Z",
     "iopub.status.idle": "2024-08-09T13:52:39.929170Z",
     "shell.execute_reply": "2024-08-09T13:52:39.928333Z"
    },
    "papermill": {
     "duration": 0.011797,
     "end_time": "2024-08-09T13:52:39.931087",
     "exception": false,
     "start_time": "2024-08-09T13:52:39.919290",
     "status": "completed"
    },
    "tags": []
   },
   "outputs": [],
   "source": [
    "import os\n",
    "\n",
    "os.environ[\"WANDB_DISABLED\"] = \"true\""
   ]
  },
  {
   "cell_type": "code",
   "execution_count": 4,
   "id": "9e2c8b97",
   "metadata": {
    "execution": {
     "iopub.execute_input": "2024-08-09T13:52:39.942974Z",
     "iopub.status.busy": "2024-08-09T13:52:39.942695Z",
     "iopub.status.idle": "2024-08-09T13:52:54.488544Z",
     "shell.execute_reply": "2024-08-09T13:52:54.487427Z"
    },
    "papermill": {
     "duration": 14.554445,
     "end_time": "2024-08-09T13:52:54.490982",
     "exception": false,
     "start_time": "2024-08-09T13:52:39.936537",
     "status": "completed"
    },
    "tags": []
   },
   "outputs": [
    {
     "name": "stdout",
     "output_type": "stream",
     "text": [
      "Collecting ultralytics\r\n",
      "  Downloading ultralytics-8.2.75-py3-none-any.whl.metadata (41 kB)\r\n",
      "\u001b[2K     \u001b[90m━━━━━━━━━━━━━━━━━━━━━━━━━━━━━━━━━━━━━━━\u001b[0m \u001b[32m41.3/41.3 kB\u001b[0m \u001b[31m648.5 kB/s\u001b[0m eta \u001b[36m0:00:00\u001b[0m\r\n",
      "\u001b[?25hRequirement already satisfied: numpy<2.0.0,>=1.23.0 in /opt/conda/lib/python3.10/site-packages (from ultralytics) (1.26.4)\r\n",
      "Requirement already satisfied: matplotlib>=3.3.0 in /opt/conda/lib/python3.10/site-packages (from ultralytics) (3.7.5)\r\n",
      "Requirement already satisfied: opencv-python>=4.6.0 in /opt/conda/lib/python3.10/site-packages (from ultralytics) (4.10.0.84)\r\n",
      "Requirement already satisfied: pillow>=7.1.2 in /opt/conda/lib/python3.10/site-packages (from ultralytics) (9.5.0)\r\n",
      "Requirement already satisfied: pyyaml>=5.3.1 in /opt/conda/lib/python3.10/site-packages (from ultralytics) (6.0.1)\r\n",
      "Requirement already satisfied: requests>=2.23.0 in /opt/conda/lib/python3.10/site-packages (from ultralytics) (2.32.3)\r\n",
      "Requirement already satisfied: scipy>=1.4.1 in /opt/conda/lib/python3.10/site-packages (from ultralytics) (1.11.4)\r\n",
      "Requirement already satisfied: torch>=1.8.0 in /opt/conda/lib/python3.10/site-packages (from ultralytics) (2.1.2)\r\n",
      "Requirement already satisfied: torchvision>=0.9.0 in /opt/conda/lib/python3.10/site-packages (from ultralytics) (0.16.2)\r\n",
      "Requirement already satisfied: tqdm>=4.64.0 in /opt/conda/lib/python3.10/site-packages (from ultralytics) (4.66.4)\r\n",
      "Requirement already satisfied: psutil in /opt/conda/lib/python3.10/site-packages (from ultralytics) (5.9.3)\r\n",
      "Requirement already satisfied: py-cpuinfo in /opt/conda/lib/python3.10/site-packages (from ultralytics) (9.0.0)\r\n",
      "Requirement already satisfied: pandas>=1.1.4 in /opt/conda/lib/python3.10/site-packages (from ultralytics) (2.2.2)\r\n",
      "Requirement already satisfied: seaborn>=0.11.0 in /opt/conda/lib/python3.10/site-packages (from ultralytics) (0.12.2)\r\n",
      "Collecting ultralytics-thop>=2.0.0 (from ultralytics)\r\n",
      "  Downloading ultralytics_thop-2.0.0-py3-none-any.whl.metadata (8.5 kB)\r\n",
      "Requirement already satisfied: contourpy>=1.0.1 in /opt/conda/lib/python3.10/site-packages (from matplotlib>=3.3.0->ultralytics) (1.2.0)\r\n",
      "Requirement already satisfied: cycler>=0.10 in /opt/conda/lib/python3.10/site-packages (from matplotlib>=3.3.0->ultralytics) (0.12.1)\r\n",
      "Requirement already satisfied: fonttools>=4.22.0 in /opt/conda/lib/python3.10/site-packages (from matplotlib>=3.3.0->ultralytics) (4.47.0)\r\n",
      "Requirement already satisfied: kiwisolver>=1.0.1 in /opt/conda/lib/python3.10/site-packages (from matplotlib>=3.3.0->ultralytics) (1.4.5)\r\n",
      "Requirement already satisfied: packaging>=20.0 in /opt/conda/lib/python3.10/site-packages (from matplotlib>=3.3.0->ultralytics) (21.3)\r\n",
      "Requirement already satisfied: pyparsing>=2.3.1 in /opt/conda/lib/python3.10/site-packages (from matplotlib>=3.3.0->ultralytics) (3.1.1)\r\n",
      "Requirement already satisfied: python-dateutil>=2.7 in /opt/conda/lib/python3.10/site-packages (from matplotlib>=3.3.0->ultralytics) (2.9.0.post0)\r\n",
      "Requirement already satisfied: pytz>=2020.1 in /opt/conda/lib/python3.10/site-packages (from pandas>=1.1.4->ultralytics) (2023.3.post1)\r\n",
      "Requirement already satisfied: tzdata>=2022.7 in /opt/conda/lib/python3.10/site-packages (from pandas>=1.1.4->ultralytics) (2023.4)\r\n",
      "Requirement already satisfied: charset-normalizer<4,>=2 in /opt/conda/lib/python3.10/site-packages (from requests>=2.23.0->ultralytics) (3.3.2)\r\n",
      "Requirement already satisfied: idna<4,>=2.5 in /opt/conda/lib/python3.10/site-packages (from requests>=2.23.0->ultralytics) (3.6)\r\n",
      "Requirement already satisfied: urllib3<3,>=1.21.1 in /opt/conda/lib/python3.10/site-packages (from requests>=2.23.0->ultralytics) (1.26.18)\r\n",
      "Requirement already satisfied: certifi>=2017.4.17 in /opt/conda/lib/python3.10/site-packages (from requests>=2.23.0->ultralytics) (2024.7.4)\r\n",
      "Requirement already satisfied: filelock in /opt/conda/lib/python3.10/site-packages (from torch>=1.8.0->ultralytics) (3.13.1)\r\n",
      "Requirement already satisfied: typing-extensions in /opt/conda/lib/python3.10/site-packages (from torch>=1.8.0->ultralytics) (4.9.0)\r\n",
      "Requirement already satisfied: sympy in /opt/conda/lib/python3.10/site-packages (from torch>=1.8.0->ultralytics) (1.13.0)\r\n",
      "Requirement already satisfied: networkx in /opt/conda/lib/python3.10/site-packages (from torch>=1.8.0->ultralytics) (3.2.1)\r\n",
      "Requirement already satisfied: jinja2 in /opt/conda/lib/python3.10/site-packages (from torch>=1.8.0->ultralytics) (3.1.2)\r\n",
      "Requirement already satisfied: fsspec in /opt/conda/lib/python3.10/site-packages (from torch>=1.8.0->ultralytics) (2024.5.0)\r\n",
      "Requirement already satisfied: six>=1.5 in /opt/conda/lib/python3.10/site-packages (from python-dateutil>=2.7->matplotlib>=3.3.0->ultralytics) (1.16.0)\r\n",
      "Requirement already satisfied: MarkupSafe>=2.0 in /opt/conda/lib/python3.10/site-packages (from jinja2->torch>=1.8.0->ultralytics) (2.1.3)\r\n",
      "Requirement already satisfied: mpmath<1.4,>=1.1.0 in /opt/conda/lib/python3.10/site-packages (from sympy->torch>=1.8.0->ultralytics) (1.3.0)\r\n",
      "Downloading ultralytics-8.2.75-py3-none-any.whl (865 kB)\r\n",
      "\u001b[2K   \u001b[90m━━━━━━━━━━━━━━━━━━━━━━━━━━━━━━━━━━━━━━━━\u001b[0m \u001b[32m865.6/865.6 kB\u001b[0m \u001b[31m5.7 MB/s\u001b[0m eta \u001b[36m0:00:00\u001b[0m\r\n",
      "\u001b[?25hDownloading ultralytics_thop-2.0.0-py3-none-any.whl (25 kB)\r\n",
      "Installing collected packages: ultralytics-thop, ultralytics\r\n",
      "Successfully installed ultralytics-8.2.75 ultralytics-thop-2.0.0\r\n"
     ]
    }
   ],
   "source": [
    "!pip install ultralytics"
   ]
  },
  {
   "cell_type": "code",
   "execution_count": 5,
   "id": "4088f377",
   "metadata": {
    "execution": {
     "iopub.execute_input": "2024-08-09T13:52:54.507633Z",
     "iopub.status.busy": "2024-08-09T13:52:54.506999Z",
     "iopub.status.idle": "2024-08-09T13:56:25.379043Z",
     "shell.execute_reply": "2024-08-09T13:56:25.378081Z"
    },
    "papermill": {
     "duration": 210.88507,
     "end_time": "2024-08-09T13:56:25.383521",
     "exception": false,
     "start_time": "2024-08-09T13:52:54.498451",
     "status": "completed"
    },
    "tags": []
   },
   "outputs": [
    {
     "name": "stdout",
     "output_type": "stream",
     "text": [
      "Downloading https://github.com/ultralytics/assets/releases/download/v8.2.0/yolov8l.pt to 'yolo-weights/yolov8l.pt'...\n"
     ]
    },
    {
     "name": "stderr",
     "output_type": "stream",
     "text": [
      "100%|██████████| 83.7M/83.7M [00:00<00:00, 262MB/s]\n"
     ]
    },
    {
     "name": "stdout",
     "output_type": "stream",
     "text": [
      "Ultralytics YOLOv8.2.75 🚀 Python-3.10.13 torch-2.1.2 CUDA:0 (Tesla T4, 15095MiB)\n",
      "\u001b[34m\u001b[1mengine/trainer: \u001b[0mtask=detect, mode=train, model=yolo-weights/yolov8l.pt, data=data.yaml, epochs=20, time=None, patience=100, batch=4, imgsz=320, save=True, save_period=-1, cache=False, device=None, workers=0, project=None, name=train, exist_ok=False, pretrained=True, optimizer=auto, verbose=True, seed=0, deterministic=True, single_cls=False, rect=False, cos_lr=False, close_mosaic=10, resume=False, amp=True, fraction=1.0, profile=False, freeze=None, multi_scale=False, overlap_mask=True, mask_ratio=4, dropout=0.0, val=True, split=val, save_json=False, save_hybrid=False, conf=None, iou=0.7, max_det=300, half=False, dnn=False, plots=True, source=None, vid_stride=1, stream_buffer=False, visualize=False, augment=False, agnostic_nms=False, classes=None, retina_masks=False, embed=None, show=False, save_frames=False, save_txt=False, save_conf=False, save_crop=False, show_labels=True, show_conf=True, show_boxes=True, line_width=None, format=torchscript, keras=False, optimize=False, int8=False, dynamic=False, simplify=False, opset=None, workspace=4, nms=False, lr0=0.01, lrf=0.01, momentum=0.937, weight_decay=0.0005, warmup_epochs=3.0, warmup_momentum=0.8, warmup_bias_lr=0.1, box=7.5, cls=0.5, dfl=1.5, pose=12.0, kobj=1.0, label_smoothing=0.0, nbs=64, hsv_h=0.015, hsv_s=0.7, hsv_v=0.4, degrees=0.0, translate=0.1, scale=0.5, shear=0.0, perspective=0.0, flipud=0.0, fliplr=0.5, bgr=0.0, mosaic=1.0, mixup=0.0, copy_paste=0.0, auto_augment=randaugment, erasing=0.4, crop_fraction=1.0, cfg=None, tracker=botsort.yaml, save_dir=runs/detect/train\n",
      "Downloading https://ultralytics.com/assets/Arial.ttf to '/root/.config/Ultralytics/Arial.ttf'...\n"
     ]
    },
    {
     "name": "stderr",
     "output_type": "stream",
     "text": [
      "100%|██████████| 755k/755k [00:00<00:00, 15.1MB/s]\n",
      "2024-08-09 13:53:01,276\tINFO util.py:124 -- Outdated packages:\n",
      "  ipywidgets==7.7.1 found, needs ipywidgets>=8\n",
      "Run `pip install -U ipywidgets`, then restart the notebook server for rich notebook output.\n",
      "2024-08-09 13:53:02,063\tINFO util.py:124 -- Outdated packages:\n",
      "  ipywidgets==7.7.1 found, needs ipywidgets>=8\n",
      "Run `pip install -U ipywidgets`, then restart the notebook server for rich notebook output.\n"
     ]
    },
    {
     "name": "stdout",
     "output_type": "stream",
     "text": [
      "Overriding model.yaml nc=80 with nc=4\n",
      "\n",
      "                   from  n    params  module                                       arguments                     \n",
      "  0                  -1  1      1856  ultralytics.nn.modules.conv.Conv             [3, 64, 3, 2]                 \n",
      "  1                  -1  1     73984  ultralytics.nn.modules.conv.Conv             [64, 128, 3, 2]               \n",
      "  2                  -1  3    279808  ultralytics.nn.modules.block.C2f             [128, 128, 3, True]           \n",
      "  3                  -1  1    295424  ultralytics.nn.modules.conv.Conv             [128, 256, 3, 2]              \n",
      "  4                  -1  6   2101248  ultralytics.nn.modules.block.C2f             [256, 256, 6, True]           \n",
      "  5                  -1  1   1180672  ultralytics.nn.modules.conv.Conv             [256, 512, 3, 2]              \n",
      "  6                  -1  6   8396800  ultralytics.nn.modules.block.C2f             [512, 512, 6, True]           \n",
      "  7                  -1  1   2360320  ultralytics.nn.modules.conv.Conv             [512, 512, 3, 2]              \n",
      "  8                  -1  3   4461568  ultralytics.nn.modules.block.C2f             [512, 512, 3, True]           \n",
      "  9                  -1  1    656896  ultralytics.nn.modules.block.SPPF            [512, 512, 5]                 \n",
      " 10                  -1  1         0  torch.nn.modules.upsampling.Upsample         [None, 2, 'nearest']          \n",
      " 11             [-1, 6]  1         0  ultralytics.nn.modules.conv.Concat           [1]                           \n",
      " 12                  -1  3   4723712  ultralytics.nn.modules.block.C2f             [1024, 512, 3]                \n",
      " 13                  -1  1         0  torch.nn.modules.upsampling.Upsample         [None, 2, 'nearest']          \n",
      " 14             [-1, 4]  1         0  ultralytics.nn.modules.conv.Concat           [1]                           \n",
      " 15                  -1  3   1247744  ultralytics.nn.modules.block.C2f             [768, 256, 3]                 \n",
      " 16                  -1  1    590336  ultralytics.nn.modules.conv.Conv             [256, 256, 3, 2]              \n",
      " 17            [-1, 12]  1         0  ultralytics.nn.modules.conv.Concat           [1]                           \n",
      " 18                  -1  3   4592640  ultralytics.nn.modules.block.C2f             [768, 512, 3]                 \n",
      " 19                  -1  1   2360320  ultralytics.nn.modules.conv.Conv             [512, 512, 3, 2]              \n",
      " 20             [-1, 9]  1         0  ultralytics.nn.modules.conv.Concat           [1]                           \n",
      " 21                  -1  3   4723712  ultralytics.nn.modules.block.C2f             [1024, 512, 3]                \n",
      " 22        [15, 18, 21]  1   5585884  ultralytics.nn.modules.head.Detect           [4, [256, 512, 512]]          \n",
      "Model summary: 365 layers, 43,632,924 parameters, 43,632,908 gradients, 165.4 GFLOPs\n",
      "\n",
      "Transferred 589/595 items from pretrained weights\n",
      "\u001b[34m\u001b[1mTensorBoard: \u001b[0mStart with 'tensorboard --logdir runs/detect/train', view at http://localhost:6006/\n"
     ]
    },
    {
     "name": "stderr",
     "output_type": "stream",
     "text": [
      "\u001b[34m\u001b[1mwandb\u001b[0m: Tracking run with wandb version 0.17.4\n",
      "\u001b[34m\u001b[1mwandb\u001b[0m: W&B syncing is set to \u001b[1m`offline`\u001b[0m in this directory.  \n",
      "\u001b[34m\u001b[1mwandb\u001b[0m: Run \u001b[1m`wandb online`\u001b[0m or set \u001b[1mWANDB_MODE=online\u001b[0m to enable cloud syncing.\n"
     ]
    },
    {
     "name": "stdout",
     "output_type": "stream",
     "text": [
      "Freezing layer 'model.22.dfl.conv.weight'\n",
      "\u001b[34m\u001b[1mAMP: \u001b[0mrunning Automatic Mixed Precision (AMP) checks with YOLOv8n...\n",
      "Downloading https://github.com/ultralytics/assets/releases/download/v8.2.0/yolov8n.pt to 'yolov8n.pt'...\n"
     ]
    },
    {
     "name": "stderr",
     "output_type": "stream",
     "text": [
      "100%|██████████| 6.25M/6.25M [00:00<00:00, 72.2MB/s]\n"
     ]
    },
    {
     "name": "stdout",
     "output_type": "stream",
     "text": [
      "\u001b[34m\u001b[1mAMP: \u001b[0mchecks passed ✅\n"
     ]
    },
    {
     "name": "stderr",
     "output_type": "stream",
     "text": [
      "\u001b[34m\u001b[1mtrain: \u001b[0mScanning /kaggle/input/rider-with-helmet-without-helmet-number-plate/train/labels... 102 images, 0 backgrounds, 2 corrupt: 100%|██████████| 104/104 [00:00<00:00, 182.20it/s]"
     ]
    },
    {
     "name": "stdout",
     "output_type": "stream",
     "text": [
      "\u001b[34m\u001b[1mtrain: \u001b[0mWARNING ⚠️ /kaggle/input/rider-with-helmet-without-helmet-number-plate/train/images/new128.jpg: ignoring corrupt image/label: cannot identify image file '/kaggle/input/rider-with-helmet-without-helmet-number-plate/train/images/new128.jpg'\n",
      "\u001b[34m\u001b[1mtrain: \u001b[0mWARNING ⚠️ /kaggle/input/rider-with-helmet-without-helmet-number-plate/train/images/new3.jpg: ignoring corrupt image/label: invalid image format GIF. Supported formats are:\n",
      "images: {'png', 'tiff', 'pfm', 'dng', 'tif', 'jpeg', 'mpo', 'jpg', 'bmp', 'webp'}\n",
      "videos: {'mpg', 'mpeg', 'mov', 'gif', 'asf', 'wmv', 'm4v', 'webm', 'ts', 'avi', 'mp4', 'mkv'}\n",
      "\u001b[34m\u001b[1mtrain: \u001b[0mWARNING ⚠️ Cache directory /kaggle/input/rider-with-helmet-without-helmet-number-plate/train is not writeable, cache not saved.\n"
     ]
    },
    {
     "name": "stderr",
     "output_type": "stream",
     "text": [
      "\n"
     ]
    },
    {
     "name": "stdout",
     "output_type": "stream",
     "text": [
      "\u001b[34m\u001b[1malbumentations: \u001b[0mBlur(p=0.01, blur_limit=(3, 7)), MedianBlur(p=0.01, blur_limit=(3, 7)), ToGray(p=0.01), CLAHE(p=0.01, clip_limit=(1, 4.0), tile_grid_size=(8, 8))\n"
     ]
    },
    {
     "name": "stderr",
     "output_type": "stream",
     "text": [
      "\u001b[34m\u001b[1mval: \u001b[0mScanning /kaggle/input/rider-with-helmet-without-helmet-number-plate/val/labels... 20 images, 0 backgrounds, 0 corrupt: 100%|██████████| 20/20 [00:00<00:00, 214.91it/s]"
     ]
    },
    {
     "name": "stdout",
     "output_type": "stream",
     "text": [
      "\u001b[34m\u001b[1mval: \u001b[0mWARNING ⚠️ Cache directory /kaggle/input/rider-with-helmet-without-helmet-number-plate/val is not writeable, cache not saved.\n"
     ]
    },
    {
     "name": "stderr",
     "output_type": "stream",
     "text": [
      "\n"
     ]
    },
    {
     "name": "stdout",
     "output_type": "stream",
     "text": [
      "Plotting labels to runs/detect/train/labels.jpg... \n",
      "\u001b[34m\u001b[1moptimizer:\u001b[0m 'optimizer=auto' found, ignoring 'lr0=0.01' and 'momentum=0.937' and determining best 'optimizer', 'lr0' and 'momentum' automatically... \n",
      "\u001b[34m\u001b[1moptimizer:\u001b[0m AdamW(lr=0.00125, momentum=0.9) with parameter groups 97 weight(decay=0.0), 104 weight(decay=0.0005), 103 bias(decay=0.0)\n",
      "\u001b[34m\u001b[1mTensorBoard: \u001b[0mmodel graph visualization added ✅\n",
      "Image sizes 320 train, 320 val\n",
      "Using 0 dataloader workers\n",
      "Logging results to \u001b[1mruns/detect/train\u001b[0m\n",
      "Starting training for 20 epochs...\n",
      "\n",
      "      Epoch    GPU_mem   box_loss   cls_loss   dfl_loss  Instances       Size\n"
     ]
    },
    {
     "name": "stderr",
     "output_type": "stream",
     "text": [
      "       1/20      2.24G      1.123      2.058      1.269         21        320: 100%|██████████| 26/26 [00:06<00:00,  3.78it/s]\n",
      "                 Class     Images  Instances      Box(P          R      mAP50  mAP50-95): 100%|██████████| 3/3 [00:02<00:00,  1.37it/s]"
     ]
    },
    {
     "name": "stdout",
     "output_type": "stream",
     "text": [
      "                   all         20         73      0.676      0.868      0.816      0.568\n"
     ]
    },
    {
     "name": "stderr",
     "output_type": "stream",
     "text": [
      "\n"
     ]
    },
    {
     "name": "stdout",
     "output_type": "stream",
     "text": [
      "\n",
      "      Epoch    GPU_mem   box_loss   cls_loss   dfl_loss  Instances       Size\n"
     ]
    },
    {
     "name": "stderr",
     "output_type": "stream",
     "text": [
      "       2/20      1.85G      1.025      1.336      1.149         16        320: 100%|██████████| 26/26 [00:04<00:00,  5.77it/s]\n",
      "                 Class     Images  Instances      Box(P          R      mAP50  mAP50-95): 100%|██████████| 3/3 [00:00<00:00,  5.57it/s]"
     ]
    },
    {
     "name": "stdout",
     "output_type": "stream",
     "text": [
      "                   all         20         73      0.735      0.797      0.779      0.538\n"
     ]
    },
    {
     "name": "stderr",
     "output_type": "stream",
     "text": [
      "\n"
     ]
    },
    {
     "name": "stdout",
     "output_type": "stream",
     "text": [
      "\n",
      "      Epoch    GPU_mem   box_loss   cls_loss   dfl_loss  Instances       Size\n"
     ]
    },
    {
     "name": "stderr",
     "output_type": "stream",
     "text": [
      "       3/20      1.85G      1.187      1.302      1.242          7        320: 100%|██████████| 26/26 [00:04<00:00,  5.56it/s]\n",
      "                 Class     Images  Instances      Box(P          R      mAP50  mAP50-95): 100%|██████████| 3/3 [00:00<00:00,  5.63it/s]"
     ]
    },
    {
     "name": "stdout",
     "output_type": "stream",
     "text": [
      "                   all         20         73      0.378      0.588      0.311      0.178\n"
     ]
    },
    {
     "name": "stderr",
     "output_type": "stream",
     "text": [
      "\n"
     ]
    },
    {
     "name": "stdout",
     "output_type": "stream",
     "text": [
      "\n",
      "      Epoch    GPU_mem   box_loss   cls_loss   dfl_loss  Instances       Size\n"
     ]
    },
    {
     "name": "stderr",
     "output_type": "stream",
     "text": [
      "       4/20      1.84G       1.25       1.36      1.289         14        320: 100%|██████████| 26/26 [00:04<00:00,  5.86it/s]\n",
      "                 Class     Images  Instances      Box(P          R      mAP50  mAP50-95): 100%|██████████| 3/3 [00:00<00:00,  5.58it/s]"
     ]
    },
    {
     "name": "stdout",
     "output_type": "stream",
     "text": [
      "                   all         20         73      0.551      0.655      0.624      0.402\n"
     ]
    },
    {
     "name": "stderr",
     "output_type": "stream",
     "text": [
      "\n"
     ]
    },
    {
     "name": "stdout",
     "output_type": "stream",
     "text": [
      "\n",
      "      Epoch    GPU_mem   box_loss   cls_loss   dfl_loss  Instances       Size\n"
     ]
    },
    {
     "name": "stderr",
     "output_type": "stream",
     "text": [
      "       5/20      1.84G       1.33      1.397      1.304         13        320: 100%|██████████| 26/26 [00:04<00:00,  5.83it/s]\n",
      "                 Class     Images  Instances      Box(P          R      mAP50  mAP50-95): 100%|██████████| 3/3 [00:00<00:00,  5.50it/s]"
     ]
    },
    {
     "name": "stdout",
     "output_type": "stream",
     "text": [
      "                   all         20         73      0.195      0.745      0.286      0.185\n"
     ]
    },
    {
     "name": "stderr",
     "output_type": "stream",
     "text": [
      "\n"
     ]
    },
    {
     "name": "stdout",
     "output_type": "stream",
     "text": [
      "\n",
      "      Epoch    GPU_mem   box_loss   cls_loss   dfl_loss  Instances       Size\n"
     ]
    },
    {
     "name": "stderr",
     "output_type": "stream",
     "text": [
      "       6/20      1.85G      1.192      1.335      1.254         12        320: 100%|██████████| 26/26 [00:04<00:00,  5.81it/s]\n",
      "                 Class     Images  Instances      Box(P          R      mAP50  mAP50-95): 100%|██████████| 3/3 [00:00<00:00,  5.63it/s]"
     ]
    },
    {
     "name": "stdout",
     "output_type": "stream",
     "text": [
      "                   all         20         73      0.755      0.827      0.818      0.543\n"
     ]
    },
    {
     "name": "stderr",
     "output_type": "stream",
     "text": [
      "\n"
     ]
    },
    {
     "name": "stdout",
     "output_type": "stream",
     "text": [
      "\n",
      "      Epoch    GPU_mem   box_loss   cls_loss   dfl_loss  Instances       Size\n"
     ]
    },
    {
     "name": "stderr",
     "output_type": "stream",
     "text": [
      "       7/20      1.83G       1.13      1.128      1.209         19        320: 100%|██████████| 26/26 [00:04<00:00,  5.70it/s]\n",
      "                 Class     Images  Instances      Box(P          R      mAP50  mAP50-95): 100%|██████████| 3/3 [00:00<00:00,  5.54it/s]"
     ]
    },
    {
     "name": "stdout",
     "output_type": "stream",
     "text": [
      "                   all         20         73      0.589      0.717      0.594      0.363\n"
     ]
    },
    {
     "name": "stderr",
     "output_type": "stream",
     "text": [
      "\n"
     ]
    },
    {
     "name": "stdout",
     "output_type": "stream",
     "text": [
      "\n",
      "      Epoch    GPU_mem   box_loss   cls_loss   dfl_loss  Instances       Size\n"
     ]
    },
    {
     "name": "stderr",
     "output_type": "stream",
     "text": [
      "       8/20      1.69G      1.088       0.98      1.205         20        320: 100%|██████████| 26/26 [00:04<00:00,  5.90it/s]\n",
      "                 Class     Images  Instances      Box(P          R      mAP50  mAP50-95): 100%|██████████| 3/3 [00:00<00:00,  5.57it/s]"
     ]
    },
    {
     "name": "stdout",
     "output_type": "stream",
     "text": [
      "                   all         20         73      0.818      0.785      0.859      0.558\n"
     ]
    },
    {
     "name": "stderr",
     "output_type": "stream",
     "text": [
      "\n"
     ]
    },
    {
     "name": "stdout",
     "output_type": "stream",
     "text": [
      "\n",
      "      Epoch    GPU_mem   box_loss   cls_loss   dfl_loss  Instances       Size\n"
     ]
    },
    {
     "name": "stderr",
     "output_type": "stream",
     "text": [
      "       9/20      1.85G     0.9963     0.8942      1.131         11        320: 100%|██████████| 26/26 [00:04<00:00,  5.86it/s]\n",
      "                 Class     Images  Instances      Box(P          R      mAP50  mAP50-95): 100%|██████████| 3/3 [00:00<00:00,  5.60it/s]"
     ]
    },
    {
     "name": "stdout",
     "output_type": "stream",
     "text": [
      "                   all         20         73      0.883      0.863      0.907      0.636\n"
     ]
    },
    {
     "name": "stderr",
     "output_type": "stream",
     "text": [
      "\n"
     ]
    },
    {
     "name": "stdout",
     "output_type": "stream",
     "text": [
      "\n",
      "      Epoch    GPU_mem   box_loss   cls_loss   dfl_loss  Instances       Size\n"
     ]
    },
    {
     "name": "stderr",
     "output_type": "stream",
     "text": [
      "      10/20      1.84G     0.9765     0.8133       1.17         16        320: 100%|██████████| 26/26 [00:04<00:00,  5.88it/s]\n",
      "                 Class     Images  Instances      Box(P          R      mAP50  mAP50-95): 100%|██████████| 3/3 [00:00<00:00,  5.52it/s]"
     ]
    },
    {
     "name": "stdout",
     "output_type": "stream",
     "text": [
      "                   all         20         73      0.911      0.877      0.924      0.678\n"
     ]
    },
    {
     "name": "stderr",
     "output_type": "stream",
     "text": [
      "\n"
     ]
    },
    {
     "name": "stdout",
     "output_type": "stream",
     "text": [
      "Closing dataloader mosaic\n",
      "\u001b[34m\u001b[1malbumentations: \u001b[0mBlur(p=0.01, blur_limit=(3, 7)), MedianBlur(p=0.01, blur_limit=(3, 7)), ToGray(p=0.01), CLAHE(p=0.01, clip_limit=(1, 4.0), tile_grid_size=(8, 8))\n",
      "\n",
      "      Epoch    GPU_mem   box_loss   cls_loss   dfl_loss  Instances       Size\n"
     ]
    },
    {
     "name": "stderr",
     "output_type": "stream",
     "text": [
      "      11/20      1.86G     0.9251     0.8075      1.126          7        320: 100%|██████████| 26/26 [00:04<00:00,  5.43it/s]\n",
      "                 Class     Images  Instances      Box(P          R      mAP50  mAP50-95): 100%|██████████| 3/3 [00:00<00:00,  5.68it/s]"
     ]
    },
    {
     "name": "stdout",
     "output_type": "stream",
     "text": [
      "                   all         20         73      0.537      0.887      0.611      0.448\n"
     ]
    },
    {
     "name": "stderr",
     "output_type": "stream",
     "text": [
      "\n"
     ]
    },
    {
     "name": "stdout",
     "output_type": "stream",
     "text": [
      "\n",
      "      Epoch    GPU_mem   box_loss   cls_loss   dfl_loss  Instances       Size\n"
     ]
    },
    {
     "name": "stderr",
     "output_type": "stream",
     "text": [
      "      12/20      1.86G     0.9107     0.7319      1.099          6        320: 100%|██████████| 26/26 [00:04<00:00,  5.96it/s]\n",
      "                 Class     Images  Instances      Box(P          R      mAP50  mAP50-95): 100%|██████████| 3/3 [00:00<00:00,  5.60it/s]"
     ]
    },
    {
     "name": "stdout",
     "output_type": "stream",
     "text": [
      "                   all         20         73      0.901      0.824      0.888      0.664\n"
     ]
    },
    {
     "name": "stderr",
     "output_type": "stream",
     "text": [
      "\n"
     ]
    },
    {
     "name": "stdout",
     "output_type": "stream",
     "text": [
      "\n",
      "      Epoch    GPU_mem   box_loss   cls_loss   dfl_loss  Instances       Size\n"
     ]
    },
    {
     "name": "stderr",
     "output_type": "stream",
     "text": [
      "      13/20      1.84G     0.9188     0.7004      1.076          8        320: 100%|██████████| 26/26 [00:04<00:00,  5.95it/s]\n",
      "                 Class     Images  Instances      Box(P          R      mAP50  mAP50-95): 100%|██████████| 3/3 [00:00<00:00,  5.71it/s]"
     ]
    },
    {
     "name": "stdout",
     "output_type": "stream",
     "text": [
      "                   all         20         73      0.861      0.874      0.906      0.673\n"
     ]
    },
    {
     "name": "stderr",
     "output_type": "stream",
     "text": [
      "\n"
     ]
    },
    {
     "name": "stdout",
     "output_type": "stream",
     "text": [
      "\n",
      "      Epoch    GPU_mem   box_loss   cls_loss   dfl_loss  Instances       Size\n"
     ]
    },
    {
     "name": "stderr",
     "output_type": "stream",
     "text": [
      "      14/20      1.85G     0.8574     0.6478      1.047          6        320: 100%|██████████| 26/26 [00:04<00:00,  5.67it/s]\n",
      "                 Class     Images  Instances      Box(P          R      mAP50  mAP50-95): 100%|██████████| 3/3 [00:00<00:00,  5.67it/s]"
     ]
    },
    {
     "name": "stdout",
     "output_type": "stream",
     "text": [
      "                   all         20         73      0.869      0.844      0.878      0.638\n"
     ]
    },
    {
     "name": "stderr",
     "output_type": "stream",
     "text": [
      "\n"
     ]
    },
    {
     "name": "stdout",
     "output_type": "stream",
     "text": [
      "\n",
      "      Epoch    GPU_mem   box_loss   cls_loss   dfl_loss  Instances       Size\n"
     ]
    },
    {
     "name": "stderr",
     "output_type": "stream",
     "text": [
      "      15/20      1.86G     0.8013      0.609      1.028          6        320: 100%|██████████| 26/26 [00:04<00:00,  5.82it/s]\n",
      "                 Class     Images  Instances      Box(P          R      mAP50  mAP50-95): 100%|██████████| 3/3 [00:00<00:00,  5.66it/s]"
     ]
    },
    {
     "name": "stdout",
     "output_type": "stream",
     "text": [
      "                   all         20         73      0.853      0.901      0.907      0.696\n"
     ]
    },
    {
     "name": "stderr",
     "output_type": "stream",
     "text": [
      "\n"
     ]
    },
    {
     "name": "stdout",
     "output_type": "stream",
     "text": [
      "\n",
      "      Epoch    GPU_mem   box_loss   cls_loss   dfl_loss  Instances       Size\n"
     ]
    },
    {
     "name": "stderr",
     "output_type": "stream",
     "text": [
      "      16/20      1.81G     0.7741     0.5993      1.002          6        320: 100%|██████████| 26/26 [00:04<00:00,  5.75it/s]\n",
      "                 Class     Images  Instances      Box(P          R      mAP50  mAP50-95): 100%|██████████| 3/3 [00:00<00:00,  5.70it/s]"
     ]
    },
    {
     "name": "stdout",
     "output_type": "stream",
     "text": [
      "                   all         20         73      0.915      0.881       0.92       0.72\n"
     ]
    },
    {
     "name": "stderr",
     "output_type": "stream",
     "text": [
      "\n"
     ]
    },
    {
     "name": "stdout",
     "output_type": "stream",
     "text": [
      "\n",
      "      Epoch    GPU_mem   box_loss   cls_loss   dfl_loss  Instances       Size\n"
     ]
    },
    {
     "name": "stderr",
     "output_type": "stream",
     "text": [
      "      17/20      1.85G     0.7379     0.5458     0.9931          6        320: 100%|██████████| 26/26 [00:04<00:00,  5.84it/s]\n",
      "                 Class     Images  Instances      Box(P          R      mAP50  mAP50-95): 100%|██████████| 3/3 [00:00<00:00,  5.63it/s]"
     ]
    },
    {
     "name": "stdout",
     "output_type": "stream",
     "text": [
      "                   all         20         73      0.921      0.897       0.93      0.746\n"
     ]
    },
    {
     "name": "stderr",
     "output_type": "stream",
     "text": [
      "\n"
     ]
    },
    {
     "name": "stdout",
     "output_type": "stream",
     "text": [
      "\n",
      "      Epoch    GPU_mem   box_loss   cls_loss   dfl_loss  Instances       Size\n"
     ]
    },
    {
     "name": "stderr",
     "output_type": "stream",
     "text": [
      "      18/20      1.85G     0.7153     0.5367     0.9821          6        320: 100%|██████████| 26/26 [00:04<00:00,  5.87it/s]\n",
      "                 Class     Images  Instances      Box(P          R      mAP50  mAP50-95): 100%|██████████| 3/3 [00:00<00:00,  5.35it/s]"
     ]
    },
    {
     "name": "stdout",
     "output_type": "stream",
     "text": [
      "                   all         20         73      0.919      0.897       0.93      0.747\n"
     ]
    },
    {
     "name": "stderr",
     "output_type": "stream",
     "text": [
      "\n"
     ]
    },
    {
     "name": "stdout",
     "output_type": "stream",
     "text": [
      "\n",
      "      Epoch    GPU_mem   box_loss   cls_loss   dfl_loss  Instances       Size\n"
     ]
    },
    {
     "name": "stderr",
     "output_type": "stream",
     "text": [
      "      19/20      1.86G     0.6991     0.5111     0.9739          7        320: 100%|██████████| 26/26 [00:04<00:00,  5.92it/s]\n",
      "                 Class     Images  Instances      Box(P          R      mAP50  mAP50-95): 100%|██████████| 3/3 [00:00<00:00,  5.49it/s]"
     ]
    },
    {
     "name": "stdout",
     "output_type": "stream",
     "text": [
      "                   all         20         73      0.919      0.897      0.933      0.761\n"
     ]
    },
    {
     "name": "stderr",
     "output_type": "stream",
     "text": [
      "\n"
     ]
    },
    {
     "name": "stdout",
     "output_type": "stream",
     "text": [
      "\n",
      "      Epoch    GPU_mem   box_loss   cls_loss   dfl_loss  Instances       Size\n"
     ]
    },
    {
     "name": "stderr",
     "output_type": "stream",
     "text": [
      "      20/20      1.86G      0.686     0.5083      0.956          7        320: 100%|██████████| 26/26 [00:04<00:00,  5.79it/s]\n",
      "                 Class     Images  Instances      Box(P          R      mAP50  mAP50-95): 100%|██████████| 3/3 [00:00<00:00,  5.67it/s]"
     ]
    },
    {
     "name": "stdout",
     "output_type": "stream",
     "text": [
      "                   all         20         73      0.926      0.895      0.932      0.762\n"
     ]
    },
    {
     "name": "stderr",
     "output_type": "stream",
     "text": [
      "\n"
     ]
    },
    {
     "name": "stdout",
     "output_type": "stream",
     "text": [
      "\n",
      "20 epochs completed in 0.042 hours.\n",
      "Optimizer stripped from runs/detect/train/weights/last.pt, 87.6MB\n",
      "Optimizer stripped from runs/detect/train/weights/best.pt, 87.6MB\n",
      "\n",
      "Validating runs/detect/train/weights/best.pt...\n",
      "Ultralytics YOLOv8.2.75 🚀 Python-3.10.13 torch-2.1.2 CUDA:0 (Tesla T4, 15095MiB)\n",
      "Model summary (fused): 268 layers, 43,609,692 parameters, 0 gradients, 164.8 GFLOPs\n"
     ]
    },
    {
     "name": "stderr",
     "output_type": "stream",
     "text": [
      "                 Class     Images  Instances      Box(P          R      mAP50  mAP50-95): 100%|██████████| 3/3 [00:01<00:00,  2.19it/s]\n"
     ]
    },
    {
     "name": "stdout",
     "output_type": "stream",
     "text": [
      "                   all         20         73      0.926      0.895      0.931      0.761\n",
      "           with helmet         12         13          1      0.846      0.918      0.715\n",
      "        without helmet         10         15      0.841      0.867      0.922       0.77\n",
      "                 rider         20         23      0.889      0.913      0.927      0.802\n",
      "          number plate         20         22      0.973      0.955      0.957      0.757\n",
      "Speed: 0.1ms preprocess, 6.6ms inference, 0.0ms loss, 0.8ms postprocess per image\n",
      "Results saved to \u001b[1mruns/detect/train\u001b[0m\n"
     ]
    },
    {
     "name": "stderr",
     "output_type": "stream",
     "text": [
      "\u001b[34m\u001b[1mwandb\u001b[0m:                                                                                \n",
      "\u001b[34m\u001b[1mwandb\u001b[0m: \n",
      "\u001b[34m\u001b[1mwandb\u001b[0m: Run history:\n",
      "\u001b[34m\u001b[1mwandb\u001b[0m:                  lr/pg0 ▃▅▇██▇▇▆▆▅▅▄▄▄▃▃▂▂▁▁\n",
      "\u001b[34m\u001b[1mwandb\u001b[0m:                  lr/pg1 ▃▅▇██▇▇▆▆▅▅▄▄▄▃▃▂▂▁▁\n",
      "\u001b[34m\u001b[1mwandb\u001b[0m:                  lr/pg2 ▃▅▇██▇▇▆▆▅▅▄▄▄▃▃▂▂▁▁\n",
      "\u001b[34m\u001b[1mwandb\u001b[0m:        metrics/mAP50(B) ▇▆▁▅▁▇▄▇██▅██▇██████\n",
      "\u001b[34m\u001b[1mwandb\u001b[0m:     metrics/mAP50-95(B) ▆▅▁▄▁▅▃▆▆▇▄▇▇▇▇█████\n",
      "\u001b[34m\u001b[1mwandb\u001b[0m:    metrics/precision(B) ▆▆▃▄▁▆▅▇██▄█▇▇▇█████\n",
      "\u001b[34m\u001b[1mwandb\u001b[0m:       metrics/recall(B) ▇▆▁▂▅▆▄▅▇▇█▆▇▇██████\n",
      "\u001b[34m\u001b[1mwandb\u001b[0m:            model/GFLOPs ▁\n",
      "\u001b[34m\u001b[1mwandb\u001b[0m:        model/parameters ▁\n",
      "\u001b[34m\u001b[1mwandb\u001b[0m: model/speed_PyTorch(ms) ▁\n",
      "\u001b[34m\u001b[1mwandb\u001b[0m:          train/box_loss ▆▅▆▇█▇▆▅▄▄▄▃▄▃▂▂▂▁▁▁\n",
      "\u001b[34m\u001b[1mwandb\u001b[0m:          train/cls_loss █▅▅▅▅▅▄▃▃▂▂▂▂▂▁▁▁▁▁▁\n",
      "\u001b[34m\u001b[1mwandb\u001b[0m:          train/dfl_loss ▇▅▇██▇▆▆▅▅▄▄▃▃▂▂▂▂▁▁\n",
      "\u001b[34m\u001b[1mwandb\u001b[0m:            val/box_loss ▃▄█▆▇▅▅▅▃▃▃▃▃▂▂▂▁▁▁▁\n",
      "\u001b[34m\u001b[1mwandb\u001b[0m:            val/cls_loss ▃▃█▅▆▂▄▁▁▁▃▁▁▁▁▁▁▁▁▁\n",
      "\u001b[34m\u001b[1mwandb\u001b[0m:            val/dfl_loss ▂▄█▄▆▄▄▃▂▂▂▂▂▂▁▁▁▁▁▁\n",
      "\u001b[34m\u001b[1mwandb\u001b[0m: \n",
      "\u001b[34m\u001b[1mwandb\u001b[0m: Run summary:\n",
      "\u001b[34m\u001b[1mwandb\u001b[0m:                  lr/pg0 7e-05\n",
      "\u001b[34m\u001b[1mwandb\u001b[0m:                  lr/pg1 7e-05\n",
      "\u001b[34m\u001b[1mwandb\u001b[0m:                  lr/pg2 7e-05\n",
      "\u001b[34m\u001b[1mwandb\u001b[0m:        metrics/mAP50(B) 0.93081\n",
      "\u001b[34m\u001b[1mwandb\u001b[0m:     metrics/mAP50-95(B) 0.76123\n",
      "\u001b[34m\u001b[1mwandb\u001b[0m:    metrics/precision(B) 0.9258\n",
      "\u001b[34m\u001b[1mwandb\u001b[0m:       metrics/recall(B) 0.89494\n",
      "\u001b[34m\u001b[1mwandb\u001b[0m:            model/GFLOPs 165.416\n",
      "\u001b[34m\u001b[1mwandb\u001b[0m:        model/parameters 43632924\n",
      "\u001b[34m\u001b[1mwandb\u001b[0m: model/speed_PyTorch(ms) 33.085\n",
      "\u001b[34m\u001b[1mwandb\u001b[0m:          train/box_loss 0.68604\n",
      "\u001b[34m\u001b[1mwandb\u001b[0m:          train/cls_loss 0.5083\n",
      "\u001b[34m\u001b[1mwandb\u001b[0m:          train/dfl_loss 0.95601\n",
      "\u001b[34m\u001b[1mwandb\u001b[0m:            val/box_loss 0.77261\n",
      "\u001b[34m\u001b[1mwandb\u001b[0m:            val/cls_loss 0.59336\n",
      "\u001b[34m\u001b[1mwandb\u001b[0m:            val/dfl_loss 0.99657\n",
      "\u001b[34m\u001b[1mwandb\u001b[0m: \n",
      "\u001b[34m\u001b[1mwandb\u001b[0m: You can sync this run to the cloud by running:\n",
      "\u001b[34m\u001b[1mwandb\u001b[0m: \u001b[1mwandb sync /kaggle/working/wandb/offline-run-20240809_135315-reg8w5h6\u001b[0m\n",
      "\u001b[34m\u001b[1mwandb\u001b[0m: Find logs at: \u001b[35m\u001b[1m./wandb/offline-run-20240809_135315-reg8w5h6/logs\u001b[0m\n",
      "\u001b[34m\u001b[1mwandb\u001b[0m: \u001b[33mWARNING\u001b[0m The new W&B backend becomes opt-out in version 0.18.0; try it out with `wandb.require(\"core\")`! See https://wandb.me/wandb-core for more information.\n"
     ]
    },
    {
     "data": {
      "text/plain": [
       "ultralytics.utils.metrics.DetMetrics object with attributes:\n",
       "\n",
       "ap_class_index: array([0, 1, 2, 3])\n",
       "box: ultralytics.utils.metrics.Metric object\n",
       "confusion_matrix: <ultralytics.utils.metrics.ConfusionMatrix object at 0x787f1872b070>\n",
       "curves: ['Precision-Recall(B)', 'F1-Confidence(B)', 'Precision-Confidence(B)', 'Recall-Confidence(B)']\n",
       "curves_results: [[array([          0,    0.001001,    0.002002,    0.003003,    0.004004,    0.005005,    0.006006,    0.007007,    0.008008,    0.009009,     0.01001,    0.011011,    0.012012,    0.013013,    0.014014,    0.015015,    0.016016,    0.017017,    0.018018,    0.019019,     0.02002,    0.021021,    0.022022,    0.023023,\n",
       "          0.024024,    0.025025,    0.026026,    0.027027,    0.028028,    0.029029,     0.03003,    0.031031,    0.032032,    0.033033,    0.034034,    0.035035,    0.036036,    0.037037,    0.038038,    0.039039,     0.04004,    0.041041,    0.042042,    0.043043,    0.044044,    0.045045,    0.046046,    0.047047,\n",
       "          0.048048,    0.049049,     0.05005,    0.051051,    0.052052,    0.053053,    0.054054,    0.055055,    0.056056,    0.057057,    0.058058,    0.059059,     0.06006,    0.061061,    0.062062,    0.063063,    0.064064,    0.065065,    0.066066,    0.067067,    0.068068,    0.069069,     0.07007,    0.071071,\n",
       "          0.072072,    0.073073,    0.074074,    0.075075,    0.076076,    0.077077,    0.078078,    0.079079,     0.08008,    0.081081,    0.082082,    0.083083,    0.084084,    0.085085,    0.086086,    0.087087,    0.088088,    0.089089,     0.09009,    0.091091,    0.092092,    0.093093,    0.094094,    0.095095,\n",
       "          0.096096,    0.097097,    0.098098,    0.099099,      0.1001,      0.1011,      0.1021,      0.1031,      0.1041,     0.10511,     0.10611,     0.10711,     0.10811,     0.10911,     0.11011,     0.11111,     0.11211,     0.11311,     0.11411,     0.11512,     0.11612,     0.11712,     0.11812,     0.11912,\n",
       "           0.12012,     0.12112,     0.12212,     0.12312,     0.12412,     0.12513,     0.12613,     0.12713,     0.12813,     0.12913,     0.13013,     0.13113,     0.13213,     0.13313,     0.13413,     0.13514,     0.13614,     0.13714,     0.13814,     0.13914,     0.14014,     0.14114,     0.14214,     0.14314,\n",
       "           0.14414,     0.14515,     0.14615,     0.14715,     0.14815,     0.14915,     0.15015,     0.15115,     0.15215,     0.15315,     0.15415,     0.15516,     0.15616,     0.15716,     0.15816,     0.15916,     0.16016,     0.16116,     0.16216,     0.16316,     0.16416,     0.16517,     0.16617,     0.16717,\n",
       "           0.16817,     0.16917,     0.17017,     0.17117,     0.17217,     0.17317,     0.17417,     0.17518,     0.17618,     0.17718,     0.17818,     0.17918,     0.18018,     0.18118,     0.18218,     0.18318,     0.18418,     0.18519,     0.18619,     0.18719,     0.18819,     0.18919,     0.19019,     0.19119,\n",
       "           0.19219,     0.19319,     0.19419,      0.1952,      0.1962,      0.1972,      0.1982,      0.1992,      0.2002,      0.2012,      0.2022,      0.2032,      0.2042,     0.20521,     0.20621,     0.20721,     0.20821,     0.20921,     0.21021,     0.21121,     0.21221,     0.21321,     0.21421,     0.21522,\n",
       "           0.21622,     0.21722,     0.21822,     0.21922,     0.22022,     0.22122,     0.22222,     0.22322,     0.22422,     0.22523,     0.22623,     0.22723,     0.22823,     0.22923,     0.23023,     0.23123,     0.23223,     0.23323,     0.23423,     0.23524,     0.23624,     0.23724,     0.23824,     0.23924,\n",
       "           0.24024,     0.24124,     0.24224,     0.24324,     0.24424,     0.24525,     0.24625,     0.24725,     0.24825,     0.24925,     0.25025,     0.25125,     0.25225,     0.25325,     0.25425,     0.25526,     0.25626,     0.25726,     0.25826,     0.25926,     0.26026,     0.26126,     0.26226,     0.26326,\n",
       "           0.26426,     0.26527,     0.26627,     0.26727,     0.26827,     0.26927,     0.27027,     0.27127,     0.27227,     0.27327,     0.27427,     0.27528,     0.27628,     0.27728,     0.27828,     0.27928,     0.28028,     0.28128,     0.28228,     0.28328,     0.28428,     0.28529,     0.28629,     0.28729,\n",
       "           0.28829,     0.28929,     0.29029,     0.29129,     0.29229,     0.29329,     0.29429,      0.2953,      0.2963,      0.2973,      0.2983,      0.2993,      0.3003,      0.3013,      0.3023,      0.3033,      0.3043,     0.30531,     0.30631,     0.30731,     0.30831,     0.30931,     0.31031,     0.31131,\n",
       "           0.31231,     0.31331,     0.31431,     0.31532,     0.31632,     0.31732,     0.31832,     0.31932,     0.32032,     0.32132,     0.32232,     0.32332,     0.32432,     0.32533,     0.32633,     0.32733,     0.32833,     0.32933,     0.33033,     0.33133,     0.33233,     0.33333,     0.33433,     0.33534,\n",
       "           0.33634,     0.33734,     0.33834,     0.33934,     0.34034,     0.34134,     0.34234,     0.34334,     0.34434,     0.34535,     0.34635,     0.34735,     0.34835,     0.34935,     0.35035,     0.35135,     0.35235,     0.35335,     0.35435,     0.35536,     0.35636,     0.35736,     0.35836,     0.35936,\n",
       "           0.36036,     0.36136,     0.36236,     0.36336,     0.36436,     0.36537,     0.36637,     0.36737,     0.36837,     0.36937,     0.37037,     0.37137,     0.37237,     0.37337,     0.37437,     0.37538,     0.37638,     0.37738,     0.37838,     0.37938,     0.38038,     0.38138,     0.38238,     0.38338,\n",
       "           0.38438,     0.38539,     0.38639,     0.38739,     0.38839,     0.38939,     0.39039,     0.39139,     0.39239,     0.39339,     0.39439,      0.3954,      0.3964,      0.3974,      0.3984,      0.3994,      0.4004,      0.4014,      0.4024,      0.4034,      0.4044,     0.40541,     0.40641,     0.40741,\n",
       "           0.40841,     0.40941,     0.41041,     0.41141,     0.41241,     0.41341,     0.41441,     0.41542,     0.41642,     0.41742,     0.41842,     0.41942,     0.42042,     0.42142,     0.42242,     0.42342,     0.42442,     0.42543,     0.42643,     0.42743,     0.42843,     0.42943,     0.43043,     0.43143,\n",
       "           0.43243,     0.43343,     0.43443,     0.43544,     0.43644,     0.43744,     0.43844,     0.43944,     0.44044,     0.44144,     0.44244,     0.44344,     0.44444,     0.44545,     0.44645,     0.44745,     0.44845,     0.44945,     0.45045,     0.45145,     0.45245,     0.45345,     0.45445,     0.45546,\n",
       "           0.45646,     0.45746,     0.45846,     0.45946,     0.46046,     0.46146,     0.46246,     0.46346,     0.46446,     0.46547,     0.46647,     0.46747,     0.46847,     0.46947,     0.47047,     0.47147,     0.47247,     0.47347,     0.47447,     0.47548,     0.47648,     0.47748,     0.47848,     0.47948,\n",
       "           0.48048,     0.48148,     0.48248,     0.48348,     0.48448,     0.48549,     0.48649,     0.48749,     0.48849,     0.48949,     0.49049,     0.49149,     0.49249,     0.49349,     0.49449,      0.4955,      0.4965,      0.4975,      0.4985,      0.4995,      0.5005,      0.5015,      0.5025,      0.5035,\n",
       "            0.5045,     0.50551,     0.50651,     0.50751,     0.50851,     0.50951,     0.51051,     0.51151,     0.51251,     0.51351,     0.51451,     0.51552,     0.51652,     0.51752,     0.51852,     0.51952,     0.52052,     0.52152,     0.52252,     0.52352,     0.52452,     0.52553,     0.52653,     0.52753,\n",
       "           0.52853,     0.52953,     0.53053,     0.53153,     0.53253,     0.53353,     0.53453,     0.53554,     0.53654,     0.53754,     0.53854,     0.53954,     0.54054,     0.54154,     0.54254,     0.54354,     0.54454,     0.54555,     0.54655,     0.54755,     0.54855,     0.54955,     0.55055,     0.55155,\n",
       "           0.55255,     0.55355,     0.55455,     0.55556,     0.55656,     0.55756,     0.55856,     0.55956,     0.56056,     0.56156,     0.56256,     0.56356,     0.56456,     0.56557,     0.56657,     0.56757,     0.56857,     0.56957,     0.57057,     0.57157,     0.57257,     0.57357,     0.57457,     0.57558,\n",
       "           0.57658,     0.57758,     0.57858,     0.57958,     0.58058,     0.58158,     0.58258,     0.58358,     0.58458,     0.58559,     0.58659,     0.58759,     0.58859,     0.58959,     0.59059,     0.59159,     0.59259,     0.59359,     0.59459,      0.5956,      0.5966,      0.5976,      0.5986,      0.5996,\n",
       "            0.6006,      0.6016,      0.6026,      0.6036,      0.6046,     0.60561,     0.60661,     0.60761,     0.60861,     0.60961,     0.61061,     0.61161,     0.61261,     0.61361,     0.61461,     0.61562,     0.61662,     0.61762,     0.61862,     0.61962,     0.62062,     0.62162,     0.62262,     0.62362,\n",
       "           0.62462,     0.62563,     0.62663,     0.62763,     0.62863,     0.62963,     0.63063,     0.63163,     0.63263,     0.63363,     0.63463,     0.63564,     0.63664,     0.63764,     0.63864,     0.63964,     0.64064,     0.64164,     0.64264,     0.64364,     0.64464,     0.64565,     0.64665,     0.64765,\n",
       "           0.64865,     0.64965,     0.65065,     0.65165,     0.65265,     0.65365,     0.65465,     0.65566,     0.65666,     0.65766,     0.65866,     0.65966,     0.66066,     0.66166,     0.66266,     0.66366,     0.66466,     0.66567,     0.66667,     0.66767,     0.66867,     0.66967,     0.67067,     0.67167,\n",
       "           0.67267,     0.67367,     0.67467,     0.67568,     0.67668,     0.67768,     0.67868,     0.67968,     0.68068,     0.68168,     0.68268,     0.68368,     0.68468,     0.68569,     0.68669,     0.68769,     0.68869,     0.68969,     0.69069,     0.69169,     0.69269,     0.69369,     0.69469,      0.6957,\n",
       "            0.6967,      0.6977,      0.6987,      0.6997,      0.7007,      0.7017,      0.7027,      0.7037,      0.7047,     0.70571,     0.70671,     0.70771,     0.70871,     0.70971,     0.71071,     0.71171,     0.71271,     0.71371,     0.71471,     0.71572,     0.71672,     0.71772,     0.71872,     0.71972,\n",
       "           0.72072,     0.72172,     0.72272,     0.72372,     0.72472,     0.72573,     0.72673,     0.72773,     0.72873,     0.72973,     0.73073,     0.73173,     0.73273,     0.73373,     0.73473,     0.73574,     0.73674,     0.73774,     0.73874,     0.73974,     0.74074,     0.74174,     0.74274,     0.74374,\n",
       "           0.74474,     0.74575,     0.74675,     0.74775,     0.74875,     0.74975,     0.75075,     0.75175,     0.75275,     0.75375,     0.75475,     0.75576,     0.75676,     0.75776,     0.75876,     0.75976,     0.76076,     0.76176,     0.76276,     0.76376,     0.76476,     0.76577,     0.76677,     0.76777,\n",
       "           0.76877,     0.76977,     0.77077,     0.77177,     0.77277,     0.77377,     0.77477,     0.77578,     0.77678,     0.77778,     0.77878,     0.77978,     0.78078,     0.78178,     0.78278,     0.78378,     0.78478,     0.78579,     0.78679,     0.78779,     0.78879,     0.78979,     0.79079,     0.79179,\n",
       "           0.79279,     0.79379,     0.79479,      0.7958,      0.7968,      0.7978,      0.7988,      0.7998,      0.8008,      0.8018,      0.8028,      0.8038,      0.8048,     0.80581,     0.80681,     0.80781,     0.80881,     0.80981,     0.81081,     0.81181,     0.81281,     0.81381,     0.81481,     0.81582,\n",
       "           0.81682,     0.81782,     0.81882,     0.81982,     0.82082,     0.82182,     0.82282,     0.82382,     0.82482,     0.82583,     0.82683,     0.82783,     0.82883,     0.82983,     0.83083,     0.83183,     0.83283,     0.83383,     0.83483,     0.83584,     0.83684,     0.83784,     0.83884,     0.83984,\n",
       "           0.84084,     0.84184,     0.84284,     0.84384,     0.84484,     0.84585,     0.84685,     0.84785,     0.84885,     0.84985,     0.85085,     0.85185,     0.85285,     0.85385,     0.85485,     0.85586,     0.85686,     0.85786,     0.85886,     0.85986,     0.86086,     0.86186,     0.86286,     0.86386,\n",
       "           0.86486,     0.86587,     0.86687,     0.86787,     0.86887,     0.86987,     0.87087,     0.87187,     0.87287,     0.87387,     0.87487,     0.87588,     0.87688,     0.87788,     0.87888,     0.87988,     0.88088,     0.88188,     0.88288,     0.88388,     0.88488,     0.88589,     0.88689,     0.88789,\n",
       "           0.88889,     0.88989,     0.89089,     0.89189,     0.89289,     0.89389,     0.89489,      0.8959,      0.8969,      0.8979,      0.8989,      0.8999,      0.9009,      0.9019,      0.9029,      0.9039,      0.9049,     0.90591,     0.90691,     0.90791,     0.90891,     0.90991,     0.91091,     0.91191,\n",
       "           0.91291,     0.91391,     0.91491,     0.91592,     0.91692,     0.91792,     0.91892,     0.91992,     0.92092,     0.92192,     0.92292,     0.92392,     0.92492,     0.92593,     0.92693,     0.92793,     0.92893,     0.92993,     0.93093,     0.93193,     0.93293,     0.93393,     0.93493,     0.93594,\n",
       "           0.93694,     0.93794,     0.93894,     0.93994,     0.94094,     0.94194,     0.94294,     0.94394,     0.94494,     0.94595,     0.94695,     0.94795,     0.94895,     0.94995,     0.95095,     0.95195,     0.95295,     0.95395,     0.95495,     0.95596,     0.95696,     0.95796,     0.95896,     0.95996,\n",
       "           0.96096,     0.96196,     0.96296,     0.96396,     0.96496,     0.96597,     0.96697,     0.96797,     0.96897,     0.96997,     0.97097,     0.97197,     0.97297,     0.97397,     0.97497,     0.97598,     0.97698,     0.97798,     0.97898,     0.97998,     0.98098,     0.98198,     0.98298,     0.98398,\n",
       "           0.98498,     0.98599,     0.98699,     0.98799,     0.98899,     0.98999,     0.99099,     0.99199,     0.99299,     0.99399,     0.99499,       0.996,       0.997,       0.998,       0.999,           1]), array([[          1,           1,           1, ...,   0.0033225,   0.0016612,           0],\n",
       "       [          1,           1,           1, ...,     0.68182,     0.68182,           0],\n",
       "       [          1,           1,           1, ...,     0.16429,     0.16429,           0],\n",
       "       [          1,           1,           1, ...,   0.0030728,   0.0015364,           0]]), 'Recall', 'Precision'], [array([          0,    0.001001,    0.002002,    0.003003,    0.004004,    0.005005,    0.006006,    0.007007,    0.008008,    0.009009,     0.01001,    0.011011,    0.012012,    0.013013,    0.014014,    0.015015,    0.016016,    0.017017,    0.018018,    0.019019,     0.02002,    0.021021,    0.022022,    0.023023,\n",
       "          0.024024,    0.025025,    0.026026,    0.027027,    0.028028,    0.029029,     0.03003,    0.031031,    0.032032,    0.033033,    0.034034,    0.035035,    0.036036,    0.037037,    0.038038,    0.039039,     0.04004,    0.041041,    0.042042,    0.043043,    0.044044,    0.045045,    0.046046,    0.047047,\n",
       "          0.048048,    0.049049,     0.05005,    0.051051,    0.052052,    0.053053,    0.054054,    0.055055,    0.056056,    0.057057,    0.058058,    0.059059,     0.06006,    0.061061,    0.062062,    0.063063,    0.064064,    0.065065,    0.066066,    0.067067,    0.068068,    0.069069,     0.07007,    0.071071,\n",
       "          0.072072,    0.073073,    0.074074,    0.075075,    0.076076,    0.077077,    0.078078,    0.079079,     0.08008,    0.081081,    0.082082,    0.083083,    0.084084,    0.085085,    0.086086,    0.087087,    0.088088,    0.089089,     0.09009,    0.091091,    0.092092,    0.093093,    0.094094,    0.095095,\n",
       "          0.096096,    0.097097,    0.098098,    0.099099,      0.1001,      0.1011,      0.1021,      0.1031,      0.1041,     0.10511,     0.10611,     0.10711,     0.10811,     0.10911,     0.11011,     0.11111,     0.11211,     0.11311,     0.11411,     0.11512,     0.11612,     0.11712,     0.11812,     0.11912,\n",
       "           0.12012,     0.12112,     0.12212,     0.12312,     0.12412,     0.12513,     0.12613,     0.12713,     0.12813,     0.12913,     0.13013,     0.13113,     0.13213,     0.13313,     0.13413,     0.13514,     0.13614,     0.13714,     0.13814,     0.13914,     0.14014,     0.14114,     0.14214,     0.14314,\n",
       "           0.14414,     0.14515,     0.14615,     0.14715,     0.14815,     0.14915,     0.15015,     0.15115,     0.15215,     0.15315,     0.15415,     0.15516,     0.15616,     0.15716,     0.15816,     0.15916,     0.16016,     0.16116,     0.16216,     0.16316,     0.16416,     0.16517,     0.16617,     0.16717,\n",
       "           0.16817,     0.16917,     0.17017,     0.17117,     0.17217,     0.17317,     0.17417,     0.17518,     0.17618,     0.17718,     0.17818,     0.17918,     0.18018,     0.18118,     0.18218,     0.18318,     0.18418,     0.18519,     0.18619,     0.18719,     0.18819,     0.18919,     0.19019,     0.19119,\n",
       "           0.19219,     0.19319,     0.19419,      0.1952,      0.1962,      0.1972,      0.1982,      0.1992,      0.2002,      0.2012,      0.2022,      0.2032,      0.2042,     0.20521,     0.20621,     0.20721,     0.20821,     0.20921,     0.21021,     0.21121,     0.21221,     0.21321,     0.21421,     0.21522,\n",
       "           0.21622,     0.21722,     0.21822,     0.21922,     0.22022,     0.22122,     0.22222,     0.22322,     0.22422,     0.22523,     0.22623,     0.22723,     0.22823,     0.22923,     0.23023,     0.23123,     0.23223,     0.23323,     0.23423,     0.23524,     0.23624,     0.23724,     0.23824,     0.23924,\n",
       "           0.24024,     0.24124,     0.24224,     0.24324,     0.24424,     0.24525,     0.24625,     0.24725,     0.24825,     0.24925,     0.25025,     0.25125,     0.25225,     0.25325,     0.25425,     0.25526,     0.25626,     0.25726,     0.25826,     0.25926,     0.26026,     0.26126,     0.26226,     0.26326,\n",
       "           0.26426,     0.26527,     0.26627,     0.26727,     0.26827,     0.26927,     0.27027,     0.27127,     0.27227,     0.27327,     0.27427,     0.27528,     0.27628,     0.27728,     0.27828,     0.27928,     0.28028,     0.28128,     0.28228,     0.28328,     0.28428,     0.28529,     0.28629,     0.28729,\n",
       "           0.28829,     0.28929,     0.29029,     0.29129,     0.29229,     0.29329,     0.29429,      0.2953,      0.2963,      0.2973,      0.2983,      0.2993,      0.3003,      0.3013,      0.3023,      0.3033,      0.3043,     0.30531,     0.30631,     0.30731,     0.30831,     0.30931,     0.31031,     0.31131,\n",
       "           0.31231,     0.31331,     0.31431,     0.31532,     0.31632,     0.31732,     0.31832,     0.31932,     0.32032,     0.32132,     0.32232,     0.32332,     0.32432,     0.32533,     0.32633,     0.32733,     0.32833,     0.32933,     0.33033,     0.33133,     0.33233,     0.33333,     0.33433,     0.33534,\n",
       "           0.33634,     0.33734,     0.33834,     0.33934,     0.34034,     0.34134,     0.34234,     0.34334,     0.34434,     0.34535,     0.34635,     0.34735,     0.34835,     0.34935,     0.35035,     0.35135,     0.35235,     0.35335,     0.35435,     0.35536,     0.35636,     0.35736,     0.35836,     0.35936,\n",
       "           0.36036,     0.36136,     0.36236,     0.36336,     0.36436,     0.36537,     0.36637,     0.36737,     0.36837,     0.36937,     0.37037,     0.37137,     0.37237,     0.37337,     0.37437,     0.37538,     0.37638,     0.37738,     0.37838,     0.37938,     0.38038,     0.38138,     0.38238,     0.38338,\n",
       "           0.38438,     0.38539,     0.38639,     0.38739,     0.38839,     0.38939,     0.39039,     0.39139,     0.39239,     0.39339,     0.39439,      0.3954,      0.3964,      0.3974,      0.3984,      0.3994,      0.4004,      0.4014,      0.4024,      0.4034,      0.4044,     0.40541,     0.40641,     0.40741,\n",
       "           0.40841,     0.40941,     0.41041,     0.41141,     0.41241,     0.41341,     0.41441,     0.41542,     0.41642,     0.41742,     0.41842,     0.41942,     0.42042,     0.42142,     0.42242,     0.42342,     0.42442,     0.42543,     0.42643,     0.42743,     0.42843,     0.42943,     0.43043,     0.43143,\n",
       "           0.43243,     0.43343,     0.43443,     0.43544,     0.43644,     0.43744,     0.43844,     0.43944,     0.44044,     0.44144,     0.44244,     0.44344,     0.44444,     0.44545,     0.44645,     0.44745,     0.44845,     0.44945,     0.45045,     0.45145,     0.45245,     0.45345,     0.45445,     0.45546,\n",
       "           0.45646,     0.45746,     0.45846,     0.45946,     0.46046,     0.46146,     0.46246,     0.46346,     0.46446,     0.46547,     0.46647,     0.46747,     0.46847,     0.46947,     0.47047,     0.47147,     0.47247,     0.47347,     0.47447,     0.47548,     0.47648,     0.47748,     0.47848,     0.47948,\n",
       "           0.48048,     0.48148,     0.48248,     0.48348,     0.48448,     0.48549,     0.48649,     0.48749,     0.48849,     0.48949,     0.49049,     0.49149,     0.49249,     0.49349,     0.49449,      0.4955,      0.4965,      0.4975,      0.4985,      0.4995,      0.5005,      0.5015,      0.5025,      0.5035,\n",
       "            0.5045,     0.50551,     0.50651,     0.50751,     0.50851,     0.50951,     0.51051,     0.51151,     0.51251,     0.51351,     0.51451,     0.51552,     0.51652,     0.51752,     0.51852,     0.51952,     0.52052,     0.52152,     0.52252,     0.52352,     0.52452,     0.52553,     0.52653,     0.52753,\n",
       "           0.52853,     0.52953,     0.53053,     0.53153,     0.53253,     0.53353,     0.53453,     0.53554,     0.53654,     0.53754,     0.53854,     0.53954,     0.54054,     0.54154,     0.54254,     0.54354,     0.54454,     0.54555,     0.54655,     0.54755,     0.54855,     0.54955,     0.55055,     0.55155,\n",
       "           0.55255,     0.55355,     0.55455,     0.55556,     0.55656,     0.55756,     0.55856,     0.55956,     0.56056,     0.56156,     0.56256,     0.56356,     0.56456,     0.56557,     0.56657,     0.56757,     0.56857,     0.56957,     0.57057,     0.57157,     0.57257,     0.57357,     0.57457,     0.57558,\n",
       "           0.57658,     0.57758,     0.57858,     0.57958,     0.58058,     0.58158,     0.58258,     0.58358,     0.58458,     0.58559,     0.58659,     0.58759,     0.58859,     0.58959,     0.59059,     0.59159,     0.59259,     0.59359,     0.59459,      0.5956,      0.5966,      0.5976,      0.5986,      0.5996,\n",
       "            0.6006,      0.6016,      0.6026,      0.6036,      0.6046,     0.60561,     0.60661,     0.60761,     0.60861,     0.60961,     0.61061,     0.61161,     0.61261,     0.61361,     0.61461,     0.61562,     0.61662,     0.61762,     0.61862,     0.61962,     0.62062,     0.62162,     0.62262,     0.62362,\n",
       "           0.62462,     0.62563,     0.62663,     0.62763,     0.62863,     0.62963,     0.63063,     0.63163,     0.63263,     0.63363,     0.63463,     0.63564,     0.63664,     0.63764,     0.63864,     0.63964,     0.64064,     0.64164,     0.64264,     0.64364,     0.64464,     0.64565,     0.64665,     0.64765,\n",
       "           0.64865,     0.64965,     0.65065,     0.65165,     0.65265,     0.65365,     0.65465,     0.65566,     0.65666,     0.65766,     0.65866,     0.65966,     0.66066,     0.66166,     0.66266,     0.66366,     0.66466,     0.66567,     0.66667,     0.66767,     0.66867,     0.66967,     0.67067,     0.67167,\n",
       "           0.67267,     0.67367,     0.67467,     0.67568,     0.67668,     0.67768,     0.67868,     0.67968,     0.68068,     0.68168,     0.68268,     0.68368,     0.68468,     0.68569,     0.68669,     0.68769,     0.68869,     0.68969,     0.69069,     0.69169,     0.69269,     0.69369,     0.69469,      0.6957,\n",
       "            0.6967,      0.6977,      0.6987,      0.6997,      0.7007,      0.7017,      0.7027,      0.7037,      0.7047,     0.70571,     0.70671,     0.70771,     0.70871,     0.70971,     0.71071,     0.71171,     0.71271,     0.71371,     0.71471,     0.71572,     0.71672,     0.71772,     0.71872,     0.71972,\n",
       "           0.72072,     0.72172,     0.72272,     0.72372,     0.72472,     0.72573,     0.72673,     0.72773,     0.72873,     0.72973,     0.73073,     0.73173,     0.73273,     0.73373,     0.73473,     0.73574,     0.73674,     0.73774,     0.73874,     0.73974,     0.74074,     0.74174,     0.74274,     0.74374,\n",
       "           0.74474,     0.74575,     0.74675,     0.74775,     0.74875,     0.74975,     0.75075,     0.75175,     0.75275,     0.75375,     0.75475,     0.75576,     0.75676,     0.75776,     0.75876,     0.75976,     0.76076,     0.76176,     0.76276,     0.76376,     0.76476,     0.76577,     0.76677,     0.76777,\n",
       "           0.76877,     0.76977,     0.77077,     0.77177,     0.77277,     0.77377,     0.77477,     0.77578,     0.77678,     0.77778,     0.77878,     0.77978,     0.78078,     0.78178,     0.78278,     0.78378,     0.78478,     0.78579,     0.78679,     0.78779,     0.78879,     0.78979,     0.79079,     0.79179,\n",
       "           0.79279,     0.79379,     0.79479,      0.7958,      0.7968,      0.7978,      0.7988,      0.7998,      0.8008,      0.8018,      0.8028,      0.8038,      0.8048,     0.80581,     0.80681,     0.80781,     0.80881,     0.80981,     0.81081,     0.81181,     0.81281,     0.81381,     0.81481,     0.81582,\n",
       "           0.81682,     0.81782,     0.81882,     0.81982,     0.82082,     0.82182,     0.82282,     0.82382,     0.82482,     0.82583,     0.82683,     0.82783,     0.82883,     0.82983,     0.83083,     0.83183,     0.83283,     0.83383,     0.83483,     0.83584,     0.83684,     0.83784,     0.83884,     0.83984,\n",
       "           0.84084,     0.84184,     0.84284,     0.84384,     0.84484,     0.84585,     0.84685,     0.84785,     0.84885,     0.84985,     0.85085,     0.85185,     0.85285,     0.85385,     0.85485,     0.85586,     0.85686,     0.85786,     0.85886,     0.85986,     0.86086,     0.86186,     0.86286,     0.86386,\n",
       "           0.86486,     0.86587,     0.86687,     0.86787,     0.86887,     0.86987,     0.87087,     0.87187,     0.87287,     0.87387,     0.87487,     0.87588,     0.87688,     0.87788,     0.87888,     0.87988,     0.88088,     0.88188,     0.88288,     0.88388,     0.88488,     0.88589,     0.88689,     0.88789,\n",
       "           0.88889,     0.88989,     0.89089,     0.89189,     0.89289,     0.89389,     0.89489,      0.8959,      0.8969,      0.8979,      0.8989,      0.8999,      0.9009,      0.9019,      0.9029,      0.9039,      0.9049,     0.90591,     0.90691,     0.90791,     0.90891,     0.90991,     0.91091,     0.91191,\n",
       "           0.91291,     0.91391,     0.91491,     0.91592,     0.91692,     0.91792,     0.91892,     0.91992,     0.92092,     0.92192,     0.92292,     0.92392,     0.92492,     0.92593,     0.92693,     0.92793,     0.92893,     0.92993,     0.93093,     0.93193,     0.93293,     0.93393,     0.93493,     0.93594,\n",
       "           0.93694,     0.93794,     0.93894,     0.93994,     0.94094,     0.94194,     0.94294,     0.94394,     0.94494,     0.94595,     0.94695,     0.94795,     0.94895,     0.94995,     0.95095,     0.95195,     0.95295,     0.95395,     0.95495,     0.95596,     0.95696,     0.95796,     0.95896,     0.95996,\n",
       "           0.96096,     0.96196,     0.96296,     0.96396,     0.96496,     0.96597,     0.96697,     0.96797,     0.96897,     0.96997,     0.97097,     0.97197,     0.97297,     0.97397,     0.97497,     0.97598,     0.97698,     0.97798,     0.97898,     0.97998,     0.98098,     0.98198,     0.98298,     0.98398,\n",
       "           0.98498,     0.98599,     0.98699,     0.98799,     0.98899,     0.98999,     0.99099,     0.99199,     0.99299,     0.99399,     0.99499,       0.996,       0.997,       0.998,       0.999,           1]), array([[     0.2243,      0.2243,     0.34827, ...,           0,           0,           0],\n",
       "       [    0.25862,     0.25862,     0.35704, ...,           0,           0,           0],\n",
       "       [    0.11886,     0.11886,     0.20015, ...,           0,           0,           0],\n",
       "       [    0.13003,     0.13003,     0.21984, ...,           0,           0,           0]]), 'Confidence', 'F1'], [array([          0,    0.001001,    0.002002,    0.003003,    0.004004,    0.005005,    0.006006,    0.007007,    0.008008,    0.009009,     0.01001,    0.011011,    0.012012,    0.013013,    0.014014,    0.015015,    0.016016,    0.017017,    0.018018,    0.019019,     0.02002,    0.021021,    0.022022,    0.023023,\n",
       "          0.024024,    0.025025,    0.026026,    0.027027,    0.028028,    0.029029,     0.03003,    0.031031,    0.032032,    0.033033,    0.034034,    0.035035,    0.036036,    0.037037,    0.038038,    0.039039,     0.04004,    0.041041,    0.042042,    0.043043,    0.044044,    0.045045,    0.046046,    0.047047,\n",
       "          0.048048,    0.049049,     0.05005,    0.051051,    0.052052,    0.053053,    0.054054,    0.055055,    0.056056,    0.057057,    0.058058,    0.059059,     0.06006,    0.061061,    0.062062,    0.063063,    0.064064,    0.065065,    0.066066,    0.067067,    0.068068,    0.069069,     0.07007,    0.071071,\n",
       "          0.072072,    0.073073,    0.074074,    0.075075,    0.076076,    0.077077,    0.078078,    0.079079,     0.08008,    0.081081,    0.082082,    0.083083,    0.084084,    0.085085,    0.086086,    0.087087,    0.088088,    0.089089,     0.09009,    0.091091,    0.092092,    0.093093,    0.094094,    0.095095,\n",
       "          0.096096,    0.097097,    0.098098,    0.099099,      0.1001,      0.1011,      0.1021,      0.1031,      0.1041,     0.10511,     0.10611,     0.10711,     0.10811,     0.10911,     0.11011,     0.11111,     0.11211,     0.11311,     0.11411,     0.11512,     0.11612,     0.11712,     0.11812,     0.11912,\n",
       "           0.12012,     0.12112,     0.12212,     0.12312,     0.12412,     0.12513,     0.12613,     0.12713,     0.12813,     0.12913,     0.13013,     0.13113,     0.13213,     0.13313,     0.13413,     0.13514,     0.13614,     0.13714,     0.13814,     0.13914,     0.14014,     0.14114,     0.14214,     0.14314,\n",
       "           0.14414,     0.14515,     0.14615,     0.14715,     0.14815,     0.14915,     0.15015,     0.15115,     0.15215,     0.15315,     0.15415,     0.15516,     0.15616,     0.15716,     0.15816,     0.15916,     0.16016,     0.16116,     0.16216,     0.16316,     0.16416,     0.16517,     0.16617,     0.16717,\n",
       "           0.16817,     0.16917,     0.17017,     0.17117,     0.17217,     0.17317,     0.17417,     0.17518,     0.17618,     0.17718,     0.17818,     0.17918,     0.18018,     0.18118,     0.18218,     0.18318,     0.18418,     0.18519,     0.18619,     0.18719,     0.18819,     0.18919,     0.19019,     0.19119,\n",
       "           0.19219,     0.19319,     0.19419,      0.1952,      0.1962,      0.1972,      0.1982,      0.1992,      0.2002,      0.2012,      0.2022,      0.2032,      0.2042,     0.20521,     0.20621,     0.20721,     0.20821,     0.20921,     0.21021,     0.21121,     0.21221,     0.21321,     0.21421,     0.21522,\n",
       "           0.21622,     0.21722,     0.21822,     0.21922,     0.22022,     0.22122,     0.22222,     0.22322,     0.22422,     0.22523,     0.22623,     0.22723,     0.22823,     0.22923,     0.23023,     0.23123,     0.23223,     0.23323,     0.23423,     0.23524,     0.23624,     0.23724,     0.23824,     0.23924,\n",
       "           0.24024,     0.24124,     0.24224,     0.24324,     0.24424,     0.24525,     0.24625,     0.24725,     0.24825,     0.24925,     0.25025,     0.25125,     0.25225,     0.25325,     0.25425,     0.25526,     0.25626,     0.25726,     0.25826,     0.25926,     0.26026,     0.26126,     0.26226,     0.26326,\n",
       "           0.26426,     0.26527,     0.26627,     0.26727,     0.26827,     0.26927,     0.27027,     0.27127,     0.27227,     0.27327,     0.27427,     0.27528,     0.27628,     0.27728,     0.27828,     0.27928,     0.28028,     0.28128,     0.28228,     0.28328,     0.28428,     0.28529,     0.28629,     0.28729,\n",
       "           0.28829,     0.28929,     0.29029,     0.29129,     0.29229,     0.29329,     0.29429,      0.2953,      0.2963,      0.2973,      0.2983,      0.2993,      0.3003,      0.3013,      0.3023,      0.3033,      0.3043,     0.30531,     0.30631,     0.30731,     0.30831,     0.30931,     0.31031,     0.31131,\n",
       "           0.31231,     0.31331,     0.31431,     0.31532,     0.31632,     0.31732,     0.31832,     0.31932,     0.32032,     0.32132,     0.32232,     0.32332,     0.32432,     0.32533,     0.32633,     0.32733,     0.32833,     0.32933,     0.33033,     0.33133,     0.33233,     0.33333,     0.33433,     0.33534,\n",
       "           0.33634,     0.33734,     0.33834,     0.33934,     0.34034,     0.34134,     0.34234,     0.34334,     0.34434,     0.34535,     0.34635,     0.34735,     0.34835,     0.34935,     0.35035,     0.35135,     0.35235,     0.35335,     0.35435,     0.35536,     0.35636,     0.35736,     0.35836,     0.35936,\n",
       "           0.36036,     0.36136,     0.36236,     0.36336,     0.36436,     0.36537,     0.36637,     0.36737,     0.36837,     0.36937,     0.37037,     0.37137,     0.37237,     0.37337,     0.37437,     0.37538,     0.37638,     0.37738,     0.37838,     0.37938,     0.38038,     0.38138,     0.38238,     0.38338,\n",
       "           0.38438,     0.38539,     0.38639,     0.38739,     0.38839,     0.38939,     0.39039,     0.39139,     0.39239,     0.39339,     0.39439,      0.3954,      0.3964,      0.3974,      0.3984,      0.3994,      0.4004,      0.4014,      0.4024,      0.4034,      0.4044,     0.40541,     0.40641,     0.40741,\n",
       "           0.40841,     0.40941,     0.41041,     0.41141,     0.41241,     0.41341,     0.41441,     0.41542,     0.41642,     0.41742,     0.41842,     0.41942,     0.42042,     0.42142,     0.42242,     0.42342,     0.42442,     0.42543,     0.42643,     0.42743,     0.42843,     0.42943,     0.43043,     0.43143,\n",
       "           0.43243,     0.43343,     0.43443,     0.43544,     0.43644,     0.43744,     0.43844,     0.43944,     0.44044,     0.44144,     0.44244,     0.44344,     0.44444,     0.44545,     0.44645,     0.44745,     0.44845,     0.44945,     0.45045,     0.45145,     0.45245,     0.45345,     0.45445,     0.45546,\n",
       "           0.45646,     0.45746,     0.45846,     0.45946,     0.46046,     0.46146,     0.46246,     0.46346,     0.46446,     0.46547,     0.46647,     0.46747,     0.46847,     0.46947,     0.47047,     0.47147,     0.47247,     0.47347,     0.47447,     0.47548,     0.47648,     0.47748,     0.47848,     0.47948,\n",
       "           0.48048,     0.48148,     0.48248,     0.48348,     0.48448,     0.48549,     0.48649,     0.48749,     0.48849,     0.48949,     0.49049,     0.49149,     0.49249,     0.49349,     0.49449,      0.4955,      0.4965,      0.4975,      0.4985,      0.4995,      0.5005,      0.5015,      0.5025,      0.5035,\n",
       "            0.5045,     0.50551,     0.50651,     0.50751,     0.50851,     0.50951,     0.51051,     0.51151,     0.51251,     0.51351,     0.51451,     0.51552,     0.51652,     0.51752,     0.51852,     0.51952,     0.52052,     0.52152,     0.52252,     0.52352,     0.52452,     0.52553,     0.52653,     0.52753,\n",
       "           0.52853,     0.52953,     0.53053,     0.53153,     0.53253,     0.53353,     0.53453,     0.53554,     0.53654,     0.53754,     0.53854,     0.53954,     0.54054,     0.54154,     0.54254,     0.54354,     0.54454,     0.54555,     0.54655,     0.54755,     0.54855,     0.54955,     0.55055,     0.55155,\n",
       "           0.55255,     0.55355,     0.55455,     0.55556,     0.55656,     0.55756,     0.55856,     0.55956,     0.56056,     0.56156,     0.56256,     0.56356,     0.56456,     0.56557,     0.56657,     0.56757,     0.56857,     0.56957,     0.57057,     0.57157,     0.57257,     0.57357,     0.57457,     0.57558,\n",
       "           0.57658,     0.57758,     0.57858,     0.57958,     0.58058,     0.58158,     0.58258,     0.58358,     0.58458,     0.58559,     0.58659,     0.58759,     0.58859,     0.58959,     0.59059,     0.59159,     0.59259,     0.59359,     0.59459,      0.5956,      0.5966,      0.5976,      0.5986,      0.5996,\n",
       "            0.6006,      0.6016,      0.6026,      0.6036,      0.6046,     0.60561,     0.60661,     0.60761,     0.60861,     0.60961,     0.61061,     0.61161,     0.61261,     0.61361,     0.61461,     0.61562,     0.61662,     0.61762,     0.61862,     0.61962,     0.62062,     0.62162,     0.62262,     0.62362,\n",
       "           0.62462,     0.62563,     0.62663,     0.62763,     0.62863,     0.62963,     0.63063,     0.63163,     0.63263,     0.63363,     0.63463,     0.63564,     0.63664,     0.63764,     0.63864,     0.63964,     0.64064,     0.64164,     0.64264,     0.64364,     0.64464,     0.64565,     0.64665,     0.64765,\n",
       "           0.64865,     0.64965,     0.65065,     0.65165,     0.65265,     0.65365,     0.65465,     0.65566,     0.65666,     0.65766,     0.65866,     0.65966,     0.66066,     0.66166,     0.66266,     0.66366,     0.66466,     0.66567,     0.66667,     0.66767,     0.66867,     0.66967,     0.67067,     0.67167,\n",
       "           0.67267,     0.67367,     0.67467,     0.67568,     0.67668,     0.67768,     0.67868,     0.67968,     0.68068,     0.68168,     0.68268,     0.68368,     0.68468,     0.68569,     0.68669,     0.68769,     0.68869,     0.68969,     0.69069,     0.69169,     0.69269,     0.69369,     0.69469,      0.6957,\n",
       "            0.6967,      0.6977,      0.6987,      0.6997,      0.7007,      0.7017,      0.7027,      0.7037,      0.7047,     0.70571,     0.70671,     0.70771,     0.70871,     0.70971,     0.71071,     0.71171,     0.71271,     0.71371,     0.71471,     0.71572,     0.71672,     0.71772,     0.71872,     0.71972,\n",
       "           0.72072,     0.72172,     0.72272,     0.72372,     0.72472,     0.72573,     0.72673,     0.72773,     0.72873,     0.72973,     0.73073,     0.73173,     0.73273,     0.73373,     0.73473,     0.73574,     0.73674,     0.73774,     0.73874,     0.73974,     0.74074,     0.74174,     0.74274,     0.74374,\n",
       "           0.74474,     0.74575,     0.74675,     0.74775,     0.74875,     0.74975,     0.75075,     0.75175,     0.75275,     0.75375,     0.75475,     0.75576,     0.75676,     0.75776,     0.75876,     0.75976,     0.76076,     0.76176,     0.76276,     0.76376,     0.76476,     0.76577,     0.76677,     0.76777,\n",
       "           0.76877,     0.76977,     0.77077,     0.77177,     0.77277,     0.77377,     0.77477,     0.77578,     0.77678,     0.77778,     0.77878,     0.77978,     0.78078,     0.78178,     0.78278,     0.78378,     0.78478,     0.78579,     0.78679,     0.78779,     0.78879,     0.78979,     0.79079,     0.79179,\n",
       "           0.79279,     0.79379,     0.79479,      0.7958,      0.7968,      0.7978,      0.7988,      0.7998,      0.8008,      0.8018,      0.8028,      0.8038,      0.8048,     0.80581,     0.80681,     0.80781,     0.80881,     0.80981,     0.81081,     0.81181,     0.81281,     0.81381,     0.81481,     0.81582,\n",
       "           0.81682,     0.81782,     0.81882,     0.81982,     0.82082,     0.82182,     0.82282,     0.82382,     0.82482,     0.82583,     0.82683,     0.82783,     0.82883,     0.82983,     0.83083,     0.83183,     0.83283,     0.83383,     0.83483,     0.83584,     0.83684,     0.83784,     0.83884,     0.83984,\n",
       "           0.84084,     0.84184,     0.84284,     0.84384,     0.84484,     0.84585,     0.84685,     0.84785,     0.84885,     0.84985,     0.85085,     0.85185,     0.85285,     0.85385,     0.85485,     0.85586,     0.85686,     0.85786,     0.85886,     0.85986,     0.86086,     0.86186,     0.86286,     0.86386,\n",
       "           0.86486,     0.86587,     0.86687,     0.86787,     0.86887,     0.86987,     0.87087,     0.87187,     0.87287,     0.87387,     0.87487,     0.87588,     0.87688,     0.87788,     0.87888,     0.87988,     0.88088,     0.88188,     0.88288,     0.88388,     0.88488,     0.88589,     0.88689,     0.88789,\n",
       "           0.88889,     0.88989,     0.89089,     0.89189,     0.89289,     0.89389,     0.89489,      0.8959,      0.8969,      0.8979,      0.8989,      0.8999,      0.9009,      0.9019,      0.9029,      0.9039,      0.9049,     0.90591,     0.90691,     0.90791,     0.90891,     0.90991,     0.91091,     0.91191,\n",
       "           0.91291,     0.91391,     0.91491,     0.91592,     0.91692,     0.91792,     0.91892,     0.91992,     0.92092,     0.92192,     0.92292,     0.92392,     0.92492,     0.92593,     0.92693,     0.92793,     0.92893,     0.92993,     0.93093,     0.93193,     0.93293,     0.93393,     0.93493,     0.93594,\n",
       "           0.93694,     0.93794,     0.93894,     0.93994,     0.94094,     0.94194,     0.94294,     0.94394,     0.94494,     0.94595,     0.94695,     0.94795,     0.94895,     0.94995,     0.95095,     0.95195,     0.95295,     0.95395,     0.95495,     0.95596,     0.95696,     0.95796,     0.95896,     0.95996,\n",
       "           0.96096,     0.96196,     0.96296,     0.96396,     0.96496,     0.96597,     0.96697,     0.96797,     0.96897,     0.96997,     0.97097,     0.97197,     0.97297,     0.97397,     0.97497,     0.97598,     0.97698,     0.97798,     0.97898,     0.97998,     0.98098,     0.98198,     0.98298,     0.98398,\n",
       "           0.98498,     0.98599,     0.98699,     0.98799,     0.98899,     0.98999,     0.99099,     0.99199,     0.99299,     0.99399,     0.99499,       0.996,       0.997,       0.998,       0.999,           1]), array([[    0.12766,     0.12766,     0.21462, ...,           1,           1,           1],\n",
       "       [    0.14851,     0.14851,     0.21732, ...,           1,           1,           1],\n",
       "       [   0.063187,    0.063187,      0.1112, ...,           1,           1,           1],\n",
       "       [   0.069767,    0.069767,     0.12423, ...,           1,           1,           1]]), 'Confidence', 'Precision'], [array([          0,    0.001001,    0.002002,    0.003003,    0.004004,    0.005005,    0.006006,    0.007007,    0.008008,    0.009009,     0.01001,    0.011011,    0.012012,    0.013013,    0.014014,    0.015015,    0.016016,    0.017017,    0.018018,    0.019019,     0.02002,    0.021021,    0.022022,    0.023023,\n",
       "          0.024024,    0.025025,    0.026026,    0.027027,    0.028028,    0.029029,     0.03003,    0.031031,    0.032032,    0.033033,    0.034034,    0.035035,    0.036036,    0.037037,    0.038038,    0.039039,     0.04004,    0.041041,    0.042042,    0.043043,    0.044044,    0.045045,    0.046046,    0.047047,\n",
       "          0.048048,    0.049049,     0.05005,    0.051051,    0.052052,    0.053053,    0.054054,    0.055055,    0.056056,    0.057057,    0.058058,    0.059059,     0.06006,    0.061061,    0.062062,    0.063063,    0.064064,    0.065065,    0.066066,    0.067067,    0.068068,    0.069069,     0.07007,    0.071071,\n",
       "          0.072072,    0.073073,    0.074074,    0.075075,    0.076076,    0.077077,    0.078078,    0.079079,     0.08008,    0.081081,    0.082082,    0.083083,    0.084084,    0.085085,    0.086086,    0.087087,    0.088088,    0.089089,     0.09009,    0.091091,    0.092092,    0.093093,    0.094094,    0.095095,\n",
       "          0.096096,    0.097097,    0.098098,    0.099099,      0.1001,      0.1011,      0.1021,      0.1031,      0.1041,     0.10511,     0.10611,     0.10711,     0.10811,     0.10911,     0.11011,     0.11111,     0.11211,     0.11311,     0.11411,     0.11512,     0.11612,     0.11712,     0.11812,     0.11912,\n",
       "           0.12012,     0.12112,     0.12212,     0.12312,     0.12412,     0.12513,     0.12613,     0.12713,     0.12813,     0.12913,     0.13013,     0.13113,     0.13213,     0.13313,     0.13413,     0.13514,     0.13614,     0.13714,     0.13814,     0.13914,     0.14014,     0.14114,     0.14214,     0.14314,\n",
       "           0.14414,     0.14515,     0.14615,     0.14715,     0.14815,     0.14915,     0.15015,     0.15115,     0.15215,     0.15315,     0.15415,     0.15516,     0.15616,     0.15716,     0.15816,     0.15916,     0.16016,     0.16116,     0.16216,     0.16316,     0.16416,     0.16517,     0.16617,     0.16717,\n",
       "           0.16817,     0.16917,     0.17017,     0.17117,     0.17217,     0.17317,     0.17417,     0.17518,     0.17618,     0.17718,     0.17818,     0.17918,     0.18018,     0.18118,     0.18218,     0.18318,     0.18418,     0.18519,     0.18619,     0.18719,     0.18819,     0.18919,     0.19019,     0.19119,\n",
       "           0.19219,     0.19319,     0.19419,      0.1952,      0.1962,      0.1972,      0.1982,      0.1992,      0.2002,      0.2012,      0.2022,      0.2032,      0.2042,     0.20521,     0.20621,     0.20721,     0.20821,     0.20921,     0.21021,     0.21121,     0.21221,     0.21321,     0.21421,     0.21522,\n",
       "           0.21622,     0.21722,     0.21822,     0.21922,     0.22022,     0.22122,     0.22222,     0.22322,     0.22422,     0.22523,     0.22623,     0.22723,     0.22823,     0.22923,     0.23023,     0.23123,     0.23223,     0.23323,     0.23423,     0.23524,     0.23624,     0.23724,     0.23824,     0.23924,\n",
       "           0.24024,     0.24124,     0.24224,     0.24324,     0.24424,     0.24525,     0.24625,     0.24725,     0.24825,     0.24925,     0.25025,     0.25125,     0.25225,     0.25325,     0.25425,     0.25526,     0.25626,     0.25726,     0.25826,     0.25926,     0.26026,     0.26126,     0.26226,     0.26326,\n",
       "           0.26426,     0.26527,     0.26627,     0.26727,     0.26827,     0.26927,     0.27027,     0.27127,     0.27227,     0.27327,     0.27427,     0.27528,     0.27628,     0.27728,     0.27828,     0.27928,     0.28028,     0.28128,     0.28228,     0.28328,     0.28428,     0.28529,     0.28629,     0.28729,\n",
       "           0.28829,     0.28929,     0.29029,     0.29129,     0.29229,     0.29329,     0.29429,      0.2953,      0.2963,      0.2973,      0.2983,      0.2993,      0.3003,      0.3013,      0.3023,      0.3033,      0.3043,     0.30531,     0.30631,     0.30731,     0.30831,     0.30931,     0.31031,     0.31131,\n",
       "           0.31231,     0.31331,     0.31431,     0.31532,     0.31632,     0.31732,     0.31832,     0.31932,     0.32032,     0.32132,     0.32232,     0.32332,     0.32432,     0.32533,     0.32633,     0.32733,     0.32833,     0.32933,     0.33033,     0.33133,     0.33233,     0.33333,     0.33433,     0.33534,\n",
       "           0.33634,     0.33734,     0.33834,     0.33934,     0.34034,     0.34134,     0.34234,     0.34334,     0.34434,     0.34535,     0.34635,     0.34735,     0.34835,     0.34935,     0.35035,     0.35135,     0.35235,     0.35335,     0.35435,     0.35536,     0.35636,     0.35736,     0.35836,     0.35936,\n",
       "           0.36036,     0.36136,     0.36236,     0.36336,     0.36436,     0.36537,     0.36637,     0.36737,     0.36837,     0.36937,     0.37037,     0.37137,     0.37237,     0.37337,     0.37437,     0.37538,     0.37638,     0.37738,     0.37838,     0.37938,     0.38038,     0.38138,     0.38238,     0.38338,\n",
       "           0.38438,     0.38539,     0.38639,     0.38739,     0.38839,     0.38939,     0.39039,     0.39139,     0.39239,     0.39339,     0.39439,      0.3954,      0.3964,      0.3974,      0.3984,      0.3994,      0.4004,      0.4014,      0.4024,      0.4034,      0.4044,     0.40541,     0.40641,     0.40741,\n",
       "           0.40841,     0.40941,     0.41041,     0.41141,     0.41241,     0.41341,     0.41441,     0.41542,     0.41642,     0.41742,     0.41842,     0.41942,     0.42042,     0.42142,     0.42242,     0.42342,     0.42442,     0.42543,     0.42643,     0.42743,     0.42843,     0.42943,     0.43043,     0.43143,\n",
       "           0.43243,     0.43343,     0.43443,     0.43544,     0.43644,     0.43744,     0.43844,     0.43944,     0.44044,     0.44144,     0.44244,     0.44344,     0.44444,     0.44545,     0.44645,     0.44745,     0.44845,     0.44945,     0.45045,     0.45145,     0.45245,     0.45345,     0.45445,     0.45546,\n",
       "           0.45646,     0.45746,     0.45846,     0.45946,     0.46046,     0.46146,     0.46246,     0.46346,     0.46446,     0.46547,     0.46647,     0.46747,     0.46847,     0.46947,     0.47047,     0.47147,     0.47247,     0.47347,     0.47447,     0.47548,     0.47648,     0.47748,     0.47848,     0.47948,\n",
       "           0.48048,     0.48148,     0.48248,     0.48348,     0.48448,     0.48549,     0.48649,     0.48749,     0.48849,     0.48949,     0.49049,     0.49149,     0.49249,     0.49349,     0.49449,      0.4955,      0.4965,      0.4975,      0.4985,      0.4995,      0.5005,      0.5015,      0.5025,      0.5035,\n",
       "            0.5045,     0.50551,     0.50651,     0.50751,     0.50851,     0.50951,     0.51051,     0.51151,     0.51251,     0.51351,     0.51451,     0.51552,     0.51652,     0.51752,     0.51852,     0.51952,     0.52052,     0.52152,     0.52252,     0.52352,     0.52452,     0.52553,     0.52653,     0.52753,\n",
       "           0.52853,     0.52953,     0.53053,     0.53153,     0.53253,     0.53353,     0.53453,     0.53554,     0.53654,     0.53754,     0.53854,     0.53954,     0.54054,     0.54154,     0.54254,     0.54354,     0.54454,     0.54555,     0.54655,     0.54755,     0.54855,     0.54955,     0.55055,     0.55155,\n",
       "           0.55255,     0.55355,     0.55455,     0.55556,     0.55656,     0.55756,     0.55856,     0.55956,     0.56056,     0.56156,     0.56256,     0.56356,     0.56456,     0.56557,     0.56657,     0.56757,     0.56857,     0.56957,     0.57057,     0.57157,     0.57257,     0.57357,     0.57457,     0.57558,\n",
       "           0.57658,     0.57758,     0.57858,     0.57958,     0.58058,     0.58158,     0.58258,     0.58358,     0.58458,     0.58559,     0.58659,     0.58759,     0.58859,     0.58959,     0.59059,     0.59159,     0.59259,     0.59359,     0.59459,      0.5956,      0.5966,      0.5976,      0.5986,      0.5996,\n",
       "            0.6006,      0.6016,      0.6026,      0.6036,      0.6046,     0.60561,     0.60661,     0.60761,     0.60861,     0.60961,     0.61061,     0.61161,     0.61261,     0.61361,     0.61461,     0.61562,     0.61662,     0.61762,     0.61862,     0.61962,     0.62062,     0.62162,     0.62262,     0.62362,\n",
       "           0.62462,     0.62563,     0.62663,     0.62763,     0.62863,     0.62963,     0.63063,     0.63163,     0.63263,     0.63363,     0.63463,     0.63564,     0.63664,     0.63764,     0.63864,     0.63964,     0.64064,     0.64164,     0.64264,     0.64364,     0.64464,     0.64565,     0.64665,     0.64765,\n",
       "           0.64865,     0.64965,     0.65065,     0.65165,     0.65265,     0.65365,     0.65465,     0.65566,     0.65666,     0.65766,     0.65866,     0.65966,     0.66066,     0.66166,     0.66266,     0.66366,     0.66466,     0.66567,     0.66667,     0.66767,     0.66867,     0.66967,     0.67067,     0.67167,\n",
       "           0.67267,     0.67367,     0.67467,     0.67568,     0.67668,     0.67768,     0.67868,     0.67968,     0.68068,     0.68168,     0.68268,     0.68368,     0.68468,     0.68569,     0.68669,     0.68769,     0.68869,     0.68969,     0.69069,     0.69169,     0.69269,     0.69369,     0.69469,      0.6957,\n",
       "            0.6967,      0.6977,      0.6987,      0.6997,      0.7007,      0.7017,      0.7027,      0.7037,      0.7047,     0.70571,     0.70671,     0.70771,     0.70871,     0.70971,     0.71071,     0.71171,     0.71271,     0.71371,     0.71471,     0.71572,     0.71672,     0.71772,     0.71872,     0.71972,\n",
       "           0.72072,     0.72172,     0.72272,     0.72372,     0.72472,     0.72573,     0.72673,     0.72773,     0.72873,     0.72973,     0.73073,     0.73173,     0.73273,     0.73373,     0.73473,     0.73574,     0.73674,     0.73774,     0.73874,     0.73974,     0.74074,     0.74174,     0.74274,     0.74374,\n",
       "           0.74474,     0.74575,     0.74675,     0.74775,     0.74875,     0.74975,     0.75075,     0.75175,     0.75275,     0.75375,     0.75475,     0.75576,     0.75676,     0.75776,     0.75876,     0.75976,     0.76076,     0.76176,     0.76276,     0.76376,     0.76476,     0.76577,     0.76677,     0.76777,\n",
       "           0.76877,     0.76977,     0.77077,     0.77177,     0.77277,     0.77377,     0.77477,     0.77578,     0.77678,     0.77778,     0.77878,     0.77978,     0.78078,     0.78178,     0.78278,     0.78378,     0.78478,     0.78579,     0.78679,     0.78779,     0.78879,     0.78979,     0.79079,     0.79179,\n",
       "           0.79279,     0.79379,     0.79479,      0.7958,      0.7968,      0.7978,      0.7988,      0.7998,      0.8008,      0.8018,      0.8028,      0.8038,      0.8048,     0.80581,     0.80681,     0.80781,     0.80881,     0.80981,     0.81081,     0.81181,     0.81281,     0.81381,     0.81481,     0.81582,\n",
       "           0.81682,     0.81782,     0.81882,     0.81982,     0.82082,     0.82182,     0.82282,     0.82382,     0.82482,     0.82583,     0.82683,     0.82783,     0.82883,     0.82983,     0.83083,     0.83183,     0.83283,     0.83383,     0.83483,     0.83584,     0.83684,     0.83784,     0.83884,     0.83984,\n",
       "           0.84084,     0.84184,     0.84284,     0.84384,     0.84484,     0.84585,     0.84685,     0.84785,     0.84885,     0.84985,     0.85085,     0.85185,     0.85285,     0.85385,     0.85485,     0.85586,     0.85686,     0.85786,     0.85886,     0.85986,     0.86086,     0.86186,     0.86286,     0.86386,\n",
       "           0.86486,     0.86587,     0.86687,     0.86787,     0.86887,     0.86987,     0.87087,     0.87187,     0.87287,     0.87387,     0.87487,     0.87588,     0.87688,     0.87788,     0.87888,     0.87988,     0.88088,     0.88188,     0.88288,     0.88388,     0.88488,     0.88589,     0.88689,     0.88789,\n",
       "           0.88889,     0.88989,     0.89089,     0.89189,     0.89289,     0.89389,     0.89489,      0.8959,      0.8969,      0.8979,      0.8989,      0.8999,      0.9009,      0.9019,      0.9029,      0.9039,      0.9049,     0.90591,     0.90691,     0.90791,     0.90891,     0.90991,     0.91091,     0.91191,\n",
       "           0.91291,     0.91391,     0.91491,     0.91592,     0.91692,     0.91792,     0.91892,     0.91992,     0.92092,     0.92192,     0.92292,     0.92392,     0.92492,     0.92593,     0.92693,     0.92793,     0.92893,     0.92993,     0.93093,     0.93193,     0.93293,     0.93393,     0.93493,     0.93594,\n",
       "           0.93694,     0.93794,     0.93894,     0.93994,     0.94094,     0.94194,     0.94294,     0.94394,     0.94494,     0.94595,     0.94695,     0.94795,     0.94895,     0.94995,     0.95095,     0.95195,     0.95295,     0.95395,     0.95495,     0.95596,     0.95696,     0.95796,     0.95896,     0.95996,\n",
       "           0.96096,     0.96196,     0.96296,     0.96396,     0.96496,     0.96597,     0.96697,     0.96797,     0.96897,     0.96997,     0.97097,     0.97197,     0.97297,     0.97397,     0.97497,     0.97598,     0.97698,     0.97798,     0.97898,     0.97998,     0.98098,     0.98198,     0.98298,     0.98398,\n",
       "           0.98498,     0.98599,     0.98699,     0.98799,     0.98899,     0.98999,     0.99099,     0.99199,     0.99299,     0.99399,     0.99499,       0.996,       0.997,       0.998,       0.999,           1]), array([[    0.92308,     0.92308,     0.92308, ...,           0,           0,           0],\n",
       "       [          1,           1,           1, ...,           0,           0,           0],\n",
       "       [          1,           1,           1, ...,           0,           0,           0],\n",
       "       [    0.95455,     0.95455,     0.95455, ...,           0,           0,           0]]), 'Confidence', 'Recall']]\n",
       "fitness: 0.7781867821566711\n",
       "keys: ['metrics/precision(B)', 'metrics/recall(B)', 'metrics/mAP50(B)', 'metrics/mAP50-95(B)']\n",
       "maps: array([    0.71485,     0.77042,     0.80235,      0.7573])\n",
       "names: {0: 'with helmet', 1: 'without helmet', 2: 'rider', 3: 'number plate'}\n",
       "plot: True\n",
       "results_dict: {'metrics/precision(B)': 0.9257963925075843, 'metrics/recall(B)': 0.8949448962492441, 'metrics/mAP50(B)': 0.9308134148700016, 'metrics/mAP50-95(B)': 0.7612282674107455, 'fitness': 0.7781867821566711}\n",
       "save_dir: PosixPath('runs/detect/train')\n",
       "speed: {'preprocess': 0.08392333984375, 'inference': 6.612372398376465, 'loss': 0.0015616416931152344, 'postprocess': 0.7780075073242188}\n",
       "task: 'detect'"
      ]
     },
     "execution_count": 5,
     "metadata": {},
     "output_type": "execute_result"
    }
   ],
   "source": [
    "from ultralytics import YOLO\n",
    "\n",
    "# yolo model creation\n",
    "model = YOLO(\"yolo-weights/yolov8l.pt\")\n",
    "model.train(data=\"data.yaml\", imgsz=320, batch=4, epochs=20, workers=0)"
   ]
  },
  {
   "cell_type": "code",
   "execution_count": 6,
   "id": "7e1fd2e7",
   "metadata": {
    "execution": {
     "iopub.execute_input": "2024-08-09T13:56:25.619953Z",
     "iopub.status.busy": "2024-08-09T13:56:25.619574Z",
     "iopub.status.idle": "2024-08-09T13:56:25.888889Z",
     "shell.execute_reply": "2024-08-09T13:56:25.887922Z"
    },
    "papermill": {
     "duration": 0.391109,
     "end_time": "2024-08-09T13:56:25.891239",
     "exception": false,
     "start_time": "2024-08-09T13:56:25.500130",
     "status": "completed"
    },
    "tags": []
   },
   "outputs": [],
   "source": [
    "import easyocr\n",
    "import csv\n",
    "import os\n",
    "import numpy as np\n",
    "import pandas as pd\n",
    "import cv2\n",
    "import re\n",
    "\n",
    "\n",
    "def predict_number_plate(img, ocr):\n",
    "    result = ocr.ocr(img, cls=True)\n",
    "    result = result[0]\n",
    "    texts = [line[1][0] for line in result]\n",
    "    scores = [line[1][1] for line in result]\n",
    "    if (scores[0]*100) >= 90:\n",
    "        return re.sub(r'[^a-zA-Z0-9]', '', texts[0]), scores[0]\n",
    "    else:\n",
    "        return None, None\n"
   ]
  },
  {
   "cell_type": "code",
   "execution_count": 7,
   "id": "6b1cdfa1",
   "metadata": {
    "execution": {
     "iopub.execute_input": "2024-08-09T13:56:26.160816Z",
     "iopub.status.busy": "2024-08-09T13:56:26.160096Z",
     "iopub.status.idle": "2024-08-09T13:56:40.577706Z",
     "shell.execute_reply": "2024-08-09T13:56:40.576559Z"
    },
    "papermill": {
     "duration": 14.532883,
     "end_time": "2024-08-09T13:56:40.580152",
     "exception": false,
     "start_time": "2024-08-09T13:56:26.047269",
     "status": "completed"
    },
    "tags": []
   },
   "outputs": [
    {
     "name": "stderr",
     "output_type": "stream",
     "text": [
      "/opt/conda/lib/python3.10/pty.py:89: RuntimeWarning: os.fork() was called. os.fork() is incompatible with multithreaded code, and JAX is multithreaded, so this will likely lead to a deadlock.\n",
      "  pid, fd = os.forkpty()\n"
     ]
    },
    {
     "name": "stdout",
     "output_type": "stream",
     "text": [
      "Collecting cvzone\r\n",
      "  Downloading cvzone-1.6.1.tar.gz (25 kB)\r\n",
      "  Preparing metadata (setup.py) ... \u001b[?25l-\b \b\\\b \bdone\r\n",
      "\u001b[?25hRequirement already satisfied: opencv-python in /opt/conda/lib/python3.10/site-packages (from cvzone) (4.10.0.84)\r\n",
      "Requirement already satisfied: numpy in /opt/conda/lib/python3.10/site-packages (from cvzone) (1.26.4)\r\n",
      "Building wheels for collected packages: cvzone\r\n",
      "  Building wheel for cvzone (setup.py) ... \u001b[?25l-\b \b\\\b \b|\b \bdone\r\n",
      "\u001b[?25h  Created wheel for cvzone: filename=cvzone-1.6.1-py3-none-any.whl size=26297 sha256=8f562fffde122a21f9f620ff2480576c9f88e6f75dc08c8d3479da3d8f609868\r\n",
      "  Stored in directory: /root/.cache/pip/wheels/2c/9f/b3/92e945ac4a71bf727a92463f38155cc5a4fa49c5010b38ec4c\r\n",
      "Successfully built cvzone\r\n",
      "Installing collected packages: cvzone\r\n",
      "Successfully installed cvzone-1.6.1\r\n"
     ]
    }
   ],
   "source": [
    "!pip install cvzone"
   ]
  },
  {
   "cell_type": "code",
   "execution_count": 8,
   "id": "64b0ee63",
   "metadata": {
    "execution": {
     "iopub.execute_input": "2024-08-09T13:56:40.817607Z",
     "iopub.status.busy": "2024-08-09T13:56:40.816365Z",
     "iopub.status.idle": "2024-08-09T13:57:28.338814Z",
     "shell.execute_reply": "2024-08-09T13:57:28.337794Z"
    },
    "papermill": {
     "duration": 47.643949,
     "end_time": "2024-08-09T13:57:28.341283",
     "exception": false,
     "start_time": "2024-08-09T13:56:40.697334",
     "status": "completed"
    },
    "tags": []
   },
   "outputs": [
    {
     "name": "stdout",
     "output_type": "stream",
     "text": [
      "Requirement already satisfied: ultralytics in /opt/conda/lib/python3.10/site-packages (8.2.75)\r\n",
      "Requirement already satisfied: opencv-python-headless in /opt/conda/lib/python3.10/site-packages (4.10.0.84)\r\n",
      "Requirement already satisfied: cvzone in /opt/conda/lib/python3.10/site-packages (1.6.1)\r\n",
      "Requirement already satisfied: torch in /opt/conda/lib/python3.10/site-packages (2.1.2)\r\n",
      "Requirement already satisfied: transformers in /opt/conda/lib/python3.10/site-packages (4.42.3)\r\n",
      "Collecting paddlepaddle\r\n",
      "  Downloading paddlepaddle-2.6.1-cp310-cp310-manylinux1_x86_64.whl.metadata (8.6 kB)\r\n",
      "Collecting paddleocr\r\n",
      "  Downloading paddleocr-2.8.1-py3-none-any.whl.metadata (19 kB)\r\n",
      "Requirement already satisfied: numpy<2.0.0,>=1.23.0 in /opt/conda/lib/python3.10/site-packages (from ultralytics) (1.26.4)\r\n",
      "Requirement already satisfied: matplotlib>=3.3.0 in /opt/conda/lib/python3.10/site-packages (from ultralytics) (3.7.5)\r\n",
      "Requirement already satisfied: opencv-python>=4.6.0 in /opt/conda/lib/python3.10/site-packages (from ultralytics) (4.10.0.84)\r\n",
      "Requirement already satisfied: pillow>=7.1.2 in /opt/conda/lib/python3.10/site-packages (from ultralytics) (9.5.0)\r\n",
      "Requirement already satisfied: pyyaml>=5.3.1 in /opt/conda/lib/python3.10/site-packages (from ultralytics) (6.0.1)\r\n",
      "Requirement already satisfied: requests>=2.23.0 in /opt/conda/lib/python3.10/site-packages (from ultralytics) (2.32.3)\r\n",
      "Requirement already satisfied: scipy>=1.4.1 in /opt/conda/lib/python3.10/site-packages (from ultralytics) (1.11.4)\r\n",
      "Requirement already satisfied: torchvision>=0.9.0 in /opt/conda/lib/python3.10/site-packages (from ultralytics) (0.16.2)\r\n",
      "Requirement already satisfied: tqdm>=4.64.0 in /opt/conda/lib/python3.10/site-packages (from ultralytics) (4.66.4)\r\n",
      "Requirement already satisfied: psutil in /opt/conda/lib/python3.10/site-packages (from ultralytics) (5.9.3)\r\n",
      "Requirement already satisfied: py-cpuinfo in /opt/conda/lib/python3.10/site-packages (from ultralytics) (9.0.0)\r\n",
      "Requirement already satisfied: pandas>=1.1.4 in /opt/conda/lib/python3.10/site-packages (from ultralytics) (2.2.2)\r\n",
      "Requirement already satisfied: seaborn>=0.11.0 in /opt/conda/lib/python3.10/site-packages (from ultralytics) (0.12.2)\r\n",
      "Requirement already satisfied: ultralytics-thop>=2.0.0 in /opt/conda/lib/python3.10/site-packages (from ultralytics) (2.0.0)\r\n",
      "Requirement already satisfied: filelock in /opt/conda/lib/python3.10/site-packages (from torch) (3.13.1)\r\n",
      "Requirement already satisfied: typing-extensions in /opt/conda/lib/python3.10/site-packages (from torch) (4.9.0)\r\n",
      "Requirement already satisfied: sympy in /opt/conda/lib/python3.10/site-packages (from torch) (1.13.0)\r\n",
      "Requirement already satisfied: networkx in /opt/conda/lib/python3.10/site-packages (from torch) (3.2.1)\r\n",
      "Requirement already satisfied: jinja2 in /opt/conda/lib/python3.10/site-packages (from torch) (3.1.2)\r\n",
      "Requirement already satisfied: fsspec in /opt/conda/lib/python3.10/site-packages (from torch) (2024.5.0)\r\n",
      "Requirement already satisfied: huggingface-hub<1.0,>=0.23.2 in /opt/conda/lib/python3.10/site-packages (from transformers) (0.23.4)\r\n",
      "Requirement already satisfied: packaging>=20.0 in /opt/conda/lib/python3.10/site-packages (from transformers) (21.3)\r\n",
      "Requirement already satisfied: regex!=2019.12.17 in /opt/conda/lib/python3.10/site-packages (from transformers) (2023.12.25)\r\n",
      "Requirement already satisfied: safetensors>=0.4.1 in /opt/conda/lib/python3.10/site-packages (from transformers) (0.4.3)\r\n",
      "Requirement already satisfied: tokenizers<0.20,>=0.19 in /opt/conda/lib/python3.10/site-packages (from transformers) (0.19.1)\r\n",
      "Requirement already satisfied: httpx in /opt/conda/lib/python3.10/site-packages (from paddlepaddle) (0.27.0)\r\n",
      "Requirement already satisfied: decorator in /opt/conda/lib/python3.10/site-packages (from paddlepaddle) (5.1.1)\r\n",
      "Collecting astor (from paddlepaddle)\r\n",
      "  Downloading astor-0.8.1-py2.py3-none-any.whl.metadata (4.2 kB)\r\n",
      "Requirement already satisfied: opt-einsum==3.3.0 in /opt/conda/lib/python3.10/site-packages (from paddlepaddle) (3.3.0)\r\n",
      "Requirement already satisfied: protobuf>=3.20.2 in /opt/conda/lib/python3.10/site-packages (from paddlepaddle) (3.20.3)\r\n",
      "Requirement already satisfied: shapely in /opt/conda/lib/python3.10/site-packages (from paddleocr) (1.8.5.post1)\r\n",
      "Requirement already satisfied: scikit-image in /opt/conda/lib/python3.10/site-packages (from paddleocr) (0.22.0)\r\n",
      "Requirement already satisfied: imgaug in /opt/conda/lib/python3.10/site-packages (from paddleocr) (0.4.0)\r\n",
      "Requirement already satisfied: pyclipper in /opt/conda/lib/python3.10/site-packages (from paddleocr) (1.3.0.post5)\r\n",
      "Collecting lmdb (from paddleocr)\r\n",
      "  Downloading lmdb-1.5.1-cp310-cp310-manylinux_2_17_x86_64.manylinux2014_x86_64.whl.metadata (1.1 kB)\r\n",
      "Collecting rapidfuzz (from paddleocr)\r\n",
      "  Downloading rapidfuzz-3.9.6-cp310-cp310-manylinux_2_17_x86_64.manylinux2014_x86_64.whl.metadata (12 kB)\r\n",
      "Requirement already satisfied: opencv-contrib-python in /opt/conda/lib/python3.10/site-packages (from paddleocr) (4.10.0.84)\r\n",
      "Requirement already satisfied: cython in /opt/conda/lib/python3.10/site-packages (from paddleocr) (3.0.8)\r\n",
      "Collecting python-docx (from paddleocr)\r\n",
      "  Downloading python_docx-1.1.2-py3-none-any.whl.metadata (2.0 kB)\r\n",
      "Requirement already satisfied: beautifulsoup4 in /opt/conda/lib/python3.10/site-packages (from paddleocr) (4.12.2)\r\n",
      "Requirement already satisfied: fonttools>=4.24.0 in /opt/conda/lib/python3.10/site-packages (from paddleocr) (4.47.0)\r\n",
      "Collecting fire>=0.3.0 (from paddleocr)\r\n",
      "  Downloading fire-0.6.0.tar.gz (88 kB)\r\n",
      "\u001b[2K     \u001b[90m━━━━━━━━━━━━━━━━━━━━━━━━━━━━━━━━━━━━━━━━\u001b[0m \u001b[32m88.4/88.4 kB\u001b[0m \u001b[31m1.6 MB/s\u001b[0m eta \u001b[36m0:00:00\u001b[0m\r\n",
      "\u001b[?25h  Preparing metadata (setup.py) ... \u001b[?25l-\b \bdone\r\n",
      "\u001b[?25hRequirement already satisfied: six in /opt/conda/lib/python3.10/site-packages (from fire>=0.3.0->paddleocr) (1.16.0)\r\n",
      "Requirement already satisfied: termcolor in /opt/conda/lib/python3.10/site-packages (from fire>=0.3.0->paddleocr) (2.4.0)\r\n",
      "Requirement already satisfied: contourpy>=1.0.1 in /opt/conda/lib/python3.10/site-packages (from matplotlib>=3.3.0->ultralytics) (1.2.0)\r\n",
      "Requirement already satisfied: cycler>=0.10 in /opt/conda/lib/python3.10/site-packages (from matplotlib>=3.3.0->ultralytics) (0.12.1)\r\n",
      "Requirement already satisfied: kiwisolver>=1.0.1 in /opt/conda/lib/python3.10/site-packages (from matplotlib>=3.3.0->ultralytics) (1.4.5)\r\n",
      "Requirement already satisfied: pyparsing>=2.3.1 in /opt/conda/lib/python3.10/site-packages (from matplotlib>=3.3.0->ultralytics) (3.1.1)\r\n",
      "Requirement already satisfied: python-dateutil>=2.7 in /opt/conda/lib/python3.10/site-packages (from matplotlib>=3.3.0->ultralytics) (2.9.0.post0)\r\n",
      "Requirement already satisfied: pytz>=2020.1 in /opt/conda/lib/python3.10/site-packages (from pandas>=1.1.4->ultralytics) (2023.3.post1)\r\n",
      "Requirement already satisfied: tzdata>=2022.7 in /opt/conda/lib/python3.10/site-packages (from pandas>=1.1.4->ultralytics) (2023.4)\r\n",
      "Requirement already satisfied: charset-normalizer<4,>=2 in /opt/conda/lib/python3.10/site-packages (from requests>=2.23.0->ultralytics) (3.3.2)\r\n",
      "Requirement already satisfied: idna<4,>=2.5 in /opt/conda/lib/python3.10/site-packages (from requests>=2.23.0->ultralytics) (3.6)\r\n",
      "Requirement already satisfied: urllib3<3,>=1.21.1 in /opt/conda/lib/python3.10/site-packages (from requests>=2.23.0->ultralytics) (1.26.18)\r\n",
      "Requirement already satisfied: certifi>=2017.4.17 in /opt/conda/lib/python3.10/site-packages (from requests>=2.23.0->ultralytics) (2024.7.4)\r\n",
      "Requirement already satisfied: soupsieve>1.2 in /opt/conda/lib/python3.10/site-packages (from beautifulsoup4->paddleocr) (2.5)\r\n",
      "Requirement already satisfied: anyio in /opt/conda/lib/python3.10/site-packages (from httpx->paddlepaddle) (4.2.0)\r\n",
      "Requirement already satisfied: httpcore==1.* in /opt/conda/lib/python3.10/site-packages (from httpx->paddlepaddle) (1.0.5)\r\n",
      "Requirement already satisfied: sniffio in /opt/conda/lib/python3.10/site-packages (from httpx->paddlepaddle) (1.3.0)\r\n",
      "Requirement already satisfied: h11<0.15,>=0.13 in /opt/conda/lib/python3.10/site-packages (from httpcore==1.*->httpx->paddlepaddle) (0.14.0)\r\n",
      "Requirement already satisfied: imageio in /opt/conda/lib/python3.10/site-packages (from imgaug->paddleocr) (2.33.1)\r\n",
      "Requirement already satisfied: tifffile>=2022.8.12 in /opt/conda/lib/python3.10/site-packages (from scikit-image->paddleocr) (2023.12.9)\r\n",
      "Requirement already satisfied: lazy_loader>=0.3 in /opt/conda/lib/python3.10/site-packages (from scikit-image->paddleocr) (0.3)\r\n",
      "Requirement already satisfied: MarkupSafe>=2.0 in /opt/conda/lib/python3.10/site-packages (from jinja2->torch) (2.1.3)\r\n",
      "Requirement already satisfied: lxml>=3.1.0 in /opt/conda/lib/python3.10/site-packages (from python-docx->paddleocr) (5.2.2)\r\n",
      "Requirement already satisfied: mpmath<1.4,>=1.1.0 in /opt/conda/lib/python3.10/site-packages (from sympy->torch) (1.3.0)\r\n",
      "Requirement already satisfied: exceptiongroup>=1.0.2 in /opt/conda/lib/python3.10/site-packages (from anyio->httpx->paddlepaddle) (1.2.0)\r\n",
      "Downloading paddlepaddle-2.6.1-cp310-cp310-manylinux1_x86_64.whl (125.9 MB)\r\n",
      "\u001b[2K   \u001b[90m━━━━━━━━━━━━━━━━━━━━━━━━━━━━━━━━━━━━━━━━\u001b[0m \u001b[32m125.9/125.9 MB\u001b[0m \u001b[31m4.5 MB/s\u001b[0m eta \u001b[36m0:00:00\u001b[0m\r\n",
      "\u001b[?25hDownloading paddleocr-2.8.1-py3-none-any.whl (407 kB)\r\n",
      "\u001b[2K   \u001b[90m━━━━━━━━━━━━━━━━━━━━━━━━━━━━━━━━━━━━━━━━\u001b[0m \u001b[32m407.5/407.5 kB\u001b[0m \u001b[31m7.3 MB/s\u001b[0m eta \u001b[36m0:00:00\u001b[0m\r\n",
      "\u001b[?25hDownloading astor-0.8.1-py2.py3-none-any.whl (27 kB)\r\n",
      "Downloading lmdb-1.5.1-cp310-cp310-manylinux_2_17_x86_64.manylinux2014_x86_64.whl (294 kB)\r\n",
      "\u001b[2K   \u001b[90m━━━━━━━━━━━━━━━━━━━━━━━━━━━━━━━━━━━━━━━━\u001b[0m \u001b[32m294.9/294.9 kB\u001b[0m \u001b[31m6.1 MB/s\u001b[0m eta \u001b[36m0:00:00\u001b[0m\r\n",
      "\u001b[?25hDownloading python_docx-1.1.2-py3-none-any.whl (244 kB)\r\n",
      "\u001b[2K   \u001b[90m━━━━━━━━━━━━━━━━━━━━━━━━━━━━━━━━━━━━━━━━\u001b[0m \u001b[32m244.3/244.3 kB\u001b[0m \u001b[31m7.7 MB/s\u001b[0m eta \u001b[36m0:00:00\u001b[0m\r\n",
      "\u001b[?25hDownloading rapidfuzz-3.9.6-cp310-cp310-manylinux_2_17_x86_64.manylinux2014_x86_64.whl (3.4 MB)\r\n",
      "\u001b[2K   \u001b[90m━━━━━━━━━━━━━━━━━━━━━━━━━━━━━━━━━━━━━━━━\u001b[0m \u001b[32m3.4/3.4 MB\u001b[0m \u001b[31m6.5 MB/s\u001b[0m eta \u001b[36m0:00:00\u001b[0m\r\n",
      "\u001b[?25hBuilding wheels for collected packages: fire\r\n",
      "  Building wheel for fire (setup.py) ... \u001b[?25l-\b \b\\\b \bdone\r\n",
      "\u001b[?25h  Created wheel for fire: filename=fire-0.6.0-py2.py3-none-any.whl size=117031 sha256=44b43a83dac7c5a6d08a924d130621aa6ddb87a6e1af91cde94299c92f027bc2\r\n",
      "  Stored in directory: /root/.cache/pip/wheels/d6/6d/5d/5b73fa0f46d01a793713f8859201361e9e581ced8c75e5c6a3\r\n",
      "Successfully built fire\r\n",
      "Installing collected packages: lmdb, rapidfuzz, python-docx, fire, astor, paddlepaddle, paddleocr\r\n",
      "Successfully installed astor-0.8.1 fire-0.6.0 lmdb-1.5.1 paddleocr-2.8.1 paddlepaddle-2.6.1 python-docx-1.1.2 rapidfuzz-3.9.6\r\n"
     ]
    }
   ],
   "source": [
    "!pip install ultralytics opencv-python-headless cvzone torch transformers paddlepaddle paddleocr\n"
   ]
  },
  {
   "cell_type": "code",
   "execution_count": 9,
   "id": "cbd0adf8",
   "metadata": {
    "execution": {
     "iopub.execute_input": "2024-08-09T13:57:28.652086Z",
     "iopub.status.busy": "2024-08-09T13:57:28.651715Z",
     "iopub.status.idle": "2024-08-09T13:58:28.248972Z",
     "shell.execute_reply": "2024-08-09T13:58:28.247634Z"
    },
    "papermill": {
     "duration": 59.754607,
     "end_time": "2024-08-09T13:58:28.250637",
     "exception": true,
     "start_time": "2024-08-09T13:57:28.496030",
     "status": "failed"
    },
    "tags": []
   },
   "outputs": [
    {
     "name": "stderr",
     "output_type": "stream",
     "text": [
      "OpenCV: FFMPEG: tag 0x44495658/'XVID' is not supported with codec id 12 and format 'mp4 / MP4 (MPEG-4 Part 14)'\n",
      "OpenCV: FFMPEG: fallback to use tag 0x7634706d/'mp4v'\n"
     ]
    },
    {
     "name": "stdout",
     "output_type": "stream",
     "text": [
      "download https://paddleocr.bj.bcebos.com/PP-OCRv3/english/en_PP-OCRv3_det_infer.tar to /root/.paddleocr/whl/det/en/en_PP-OCRv3_det_infer/en_PP-OCRv3_det_infer.tar\n"
     ]
    },
    {
     "name": "stderr",
     "output_type": "stream",
     "text": [
      "100%|██████████| 4.00M/4.00M [00:16<00:00, 248kiB/s] \n"
     ]
    },
    {
     "name": "stdout",
     "output_type": "stream",
     "text": [
      "download https://paddleocr.bj.bcebos.com/PP-OCRv4/english/en_PP-OCRv4_rec_infer.tar to /root/.paddleocr/whl/rec/en/en_PP-OCRv4_rec_infer/en_PP-OCRv4_rec_infer.tar\n"
     ]
    },
    {
     "name": "stderr",
     "output_type": "stream",
     "text": [
      "100%|██████████| 10.2M/10.2M [00:18<00:00, 568kiB/s] \n"
     ]
    },
    {
     "name": "stdout",
     "output_type": "stream",
     "text": [
      "download https://paddleocr.bj.bcebos.com/dygraph_v2.0/ch/ch_ppocr_mobile_v2.0_cls_infer.tar to /root/.paddleocr/whl/cls/ch_ppocr_mobile_v2.0_cls_infer/ch_ppocr_mobile_v2.0_cls_infer.tar\n"
     ]
    },
    {
     "name": "stderr",
     "output_type": "stream",
     "text": [
      "100%|██████████| 2.19M/2.19M [00:15<00:00, 144kiB/s]"
     ]
    },
    {
     "name": "stdout",
     "output_type": "stream",
     "text": [
      "[2024/08/09 13:58:23] ppocr DEBUG: Namespace(help='==SUPPRESS==', use_gpu=False, use_xpu=False, use_npu=False, use_mlu=False, ir_optim=True, use_tensorrt=False, min_subgraph_size=15, precision='fp32', gpu_mem=500, gpu_id=0, image_dir=None, page_num=0, det_algorithm='DB', det_model_dir='/root/.paddleocr/whl/det/en/en_PP-OCRv3_det_infer', det_limit_side_len=960, det_limit_type='max', det_box_type='quad', det_db_thresh=0.3, det_db_box_thresh=0.6, det_db_unclip_ratio=1.5, max_batch_size=10, use_dilation=False, det_db_score_mode='fast', det_east_score_thresh=0.8, det_east_cover_thresh=0.1, det_east_nms_thresh=0.2, det_sast_score_thresh=0.5, det_sast_nms_thresh=0.2, det_pse_thresh=0, det_pse_box_thresh=0.85, det_pse_min_area=16, det_pse_scale=1, scales=[8, 16, 32], alpha=1.0, beta=1.0, fourier_degree=5, rec_algorithm='SVTR_LCNet', rec_model_dir='/root/.paddleocr/whl/rec/en/en_PP-OCRv4_rec_infer', rec_image_inverse=True, rec_image_shape='3, 48, 320', rec_batch_num=6, max_text_length=25, rec_char_dict_path='/opt/conda/lib/python3.10/site-packages/paddleocr/ppocr/utils/en_dict.txt', use_space_char=True, vis_font_path='./doc/fonts/simfang.ttf', drop_score=0.5, e2e_algorithm='PGNet', e2e_model_dir=None, e2e_limit_side_len=768, e2e_limit_type='max', e2e_pgnet_score_thresh=0.5, e2e_char_dict_path='./ppocr/utils/ic15_dict.txt', e2e_pgnet_valid_set='totaltext', e2e_pgnet_mode='fast', use_angle_cls=True, cls_model_dir='/root/.paddleocr/whl/cls/ch_ppocr_mobile_v2.0_cls_infer', cls_image_shape='3, 48, 192', label_list=['0', '180'], cls_batch_num=6, cls_thresh=0.9, enable_mkldnn=False, cpu_threads=10, use_pdserving=False, warmup=False, sr_model_dir=None, sr_image_shape='3, 32, 128', sr_batch_num=1, draw_img_save_dir='./inference_results', save_crop_res=False, crop_res_save_dir='./output', use_mp=False, total_process_num=1, process_id=0, benchmark=False, save_log_path='./log_output/', show_log=True, use_onnx=False, return_word_box=False, output='./output', table_max_len=488, table_algorithm='TableAttn', table_model_dir=None, merge_no_span_structure=True, table_char_dict_path=None, layout_model_dir=None, layout_dict_path=None, layout_score_threshold=0.5, layout_nms_threshold=0.5, kie_algorithm='LayoutXLM', ser_model_dir=None, re_model_dir=None, use_visual_backbone=True, ser_dict_path='../train_data/XFUND/class_list_xfun.txt', ocr_order_method=None, mode='structure', image_orientation=False, layout=True, table=True, ocr=True, recovery=False, use_pdf2docx_api=False, invert=False, binarize=False, alphacolor=(255, 255, 255), lang='en', det=True, rec=True, type='ocr', savefile=False, ocr_version='PP-OCRv4', structure_version='PP-StructureV2')\n"
     ]
    },
    {
     "name": "stderr",
     "output_type": "stream",
     "text": [
      "\n"
     ]
    },
    {
     "name": "stdout",
     "output_type": "stream",
     "text": [
      "\n",
      "0: 192x320 1 with helmet, 2 riders, 1 number plate, 218.0ms\n"
     ]
    },
    {
     "ename": "error",
     "evalue": "OpenCV(4.10.0) /io/opencv/modules/highgui/src/window.cpp:1301: error: (-2:Unspecified error) The function is not implemented. Rebuild the library with Windows, GTK+ 2.x or Cocoa support. If you are on Ubuntu or Debian, install libgtk2.0-dev and pkg-config, then re-run cmake or configure script in function 'cvShowImage'\n",
     "output_type": "error",
     "traceback": [
      "\u001b[0;31m---------------------------------------------------------------------------\u001b[0m",
      "\u001b[0;31merror\u001b[0m                                     Traceback (most recent call last)",
      "Cell \u001b[0;32mIn[9], line 111\u001b[0m\n\u001b[1;32m    109\u001b[0m \u001b[38;5;66;03m# Display the frame\u001b[39;00m\n\u001b[1;32m    110\u001b[0m output\u001b[38;5;241m.\u001b[39mwrite(img)\n\u001b[0;32m--> 111\u001b[0m \u001b[43mcv2\u001b[49m\u001b[38;5;241;43m.\u001b[39;49m\u001b[43mimshow\u001b[49m\u001b[43m(\u001b[49m\u001b[38;5;124;43m'\u001b[39;49m\u001b[38;5;124;43mVideo\u001b[39;49m\u001b[38;5;124;43m'\u001b[39;49m\u001b[43m,\u001b[49m\u001b[43m \u001b[49m\u001b[43mimg\u001b[49m\u001b[43m)\u001b[49m\n\u001b[1;32m    112\u001b[0m li \u001b[38;5;241m=\u001b[39m \u001b[38;5;28mlist\u001b[39m()\n\u001b[1;32m    113\u001b[0m rider_box \u001b[38;5;241m=\u001b[39m \u001b[38;5;28mlist\u001b[39m()\n",
      "\u001b[0;31merror\u001b[0m: OpenCV(4.10.0) /io/opencv/modules/highgui/src/window.cpp:1301: error: (-2:Unspecified error) The function is not implemented. Rebuild the library with Windows, GTK+ 2.x or Cocoa support. If you are on Ubuntu or Debian, install libgtk2.0-dev and pkg-config, then re-run cmake or configure script in function 'cvShowImage'\n"
     ]
    }
   ],
   "source": [
    "from ultralytics import YOLO\n",
    "import math\n",
    "import cv2\n",
    "import cvzone\n",
    "import torch\n",
    "# from image_to_text import predict_number_plate\n",
    "from transformers import VisionEncoderDecoderModel\n",
    "from transformers import TrOCRProcessor\n",
    "from paddleocr import PaddleOCR\n",
    "\n",
    "cap = cv2.VideoCapture(\"/kaggle/input/videos/video.mp4\")  # For videos\n",
    "\n",
    "model = YOLO(\"/kaggle/working/runs/detect/train/weights/best.pt\") # after training update the location of best.pt\n",
    "\n",
    "device = torch.device(\"cuda\") # change to cuda for windows gpu or keep it as cpu\n",
    "\n",
    "classNames = [\"with helmet\", \"without helmet\", \"rider\", \"number plate\"]\n",
    "num = 0\n",
    "old_npconf = 0\n",
    "\n",
    "# grab the width, height, and fps of the frames in the video stream.\n",
    "frame_width = int(cap.get(cv2.CAP_PROP_FRAME_WIDTH))\n",
    "frame_height = int(cap.get(cv2.CAP_PROP_FRAME_HEIGHT))\n",
    "fps = int(cap.get(cv2.CAP_PROP_FPS))\n",
    "\n",
    "# Initialize the FourCC and a video writer object\n",
    "fourcc = cv2.VideoWriter_fourcc(*'XVID')\n",
    "# Create an output path in Kaggle's working directory\n",
    "output_path = '/kaggle/working/output.mp4'\n",
    "\n",
    "# Initialize the VideoWriter\n",
    "output = cv2.VideoWriter(output_path, fourcc, fps, (frame_width, frame_height))\n",
    "\n",
    "# # initialize the FourCC and a video writer object\n",
    "# fourcc = cv2.VideoWriter_fourcc(*'XVID')\n",
    "# output = cv2.VideoWriter('output.mp4', fourcc, fps, (frame_width, frame_height))\n",
    "\n",
    "\n",
    "ocr = PaddleOCR(use_angle_cls=True, lang='en')  # need to run only once to download and load model into memory\n",
    "\n",
    "while True:\n",
    "    success, img = cap.read()\n",
    "    # Check if the frame was read successfully\n",
    "    if not success:\n",
    "        break\n",
    "    new_img = cv2.cvtColor(img, cv2.COLOR_BGR2RGB)\n",
    "    results = model(new_img, stream=True, device=\"mps\")\n",
    "    for r in results:\n",
    "        boxes = r.boxes\n",
    "        li = dict()\n",
    "        rider_box = list()\n",
    "        xy = boxes.xyxy\n",
    "        confidences = boxes.conf\n",
    "        classes = boxes.cls\n",
    "        new_boxes = torch.cat((xy.to(device), confidences.unsqueeze(1).to(device), classes.unsqueeze(1).to(device)), 1)\n",
    "        try:\n",
    "            new_boxes = new_boxes[new_boxes[:, -1].sort()[1]]\n",
    "            # Get the indices of the rows where the value in column 1 is equal to 5.\n",
    "            indices = torch.where(new_boxes[:, -1] == 2)\n",
    "            # Select the rows where the mask is True.\n",
    "            rows = new_boxes[indices]\n",
    "            # Add rider details in the list\n",
    "            for box in rows:\n",
    "                x1, y1, x2, y2 = box[0], box[1], box[2], box[3]\n",
    "                x1, y1, x2, y2 = int(x1), int(y1), int(x2), int(y2)\n",
    "                rider_box.append((x1, y1, x2, y2))\n",
    "        except:\n",
    "            pass\n",
    "        for i, box in enumerate(new_boxes):\n",
    "            # Bounding box\n",
    "            x1, y1, x2, y2 = box[0], box[1], box[2], box[3]\n",
    "            x1, y1, x2, y2 = int(x1), int(y1), int(x2), int(y2)\n",
    "            w, h = x2 - x1, y2 - y1\n",
    "            # Confidence\n",
    "            conf = math.ceil((box[4] * 100)) / 100\n",
    "            # Class Name\n",
    "            cls = int(box[5])\n",
    "            if classNames[cls] == \"without helmet\" and conf >= 0.5 or classNames[cls] == \"rider\" and conf >= 0.45 or \\\n",
    "                    classNames[cls] == \"number plate\" and conf >= 0.5:\n",
    "                if classNames[cls] == \"rider\":\n",
    "                    rider_box.append((x1, y1, x2, y2))\n",
    "                if rider_box:\n",
    "                    for j, rider in enumerate(rider_box):\n",
    "                        if x1 + 10 >= rider_box[j][0] and y1 + 10 >= rider_box[j][1] and x2 <= rider_box[j][2] and \\\n",
    "                                y2 <= rider_box[j][3]:\n",
    "                            # highlight or outline objects detected by object detection models\n",
    "                            cvzone.cornerRect(img, (x1, y1, w, h), l=15, rt=5, colorR=(255, 0, 0))\n",
    "                            cvzone.putTextRect(img, f\"{classNames[cls].upper()}\", (x1 + 10, y1 - 10), scale=1.5,\n",
    "                                               offset=10, thickness=2, colorT=(39, 40, 41), colorR=(248, 222, 34))\n",
    "                            li.setdefault(f\"rider{j}\", [])\n",
    "                            li[f\"rider{j}\"].append(classNames[cls])\n",
    "                            if classNames[cls] == \"number plate\":\n",
    "                                npx, npy, npw, nph, npconf = x1, y1, w, h, conf\n",
    "                                crop = img[npy:npy + h, npx:npx + w]\n",
    "                        if li:\n",
    "                            for key, value in li.items():\n",
    "                                if key == f\"rider{j}\":\n",
    "                                    if len(list(set(li[f\"rider{j}\"]))) == 3:\n",
    "                                        try:\n",
    "                                            # crop = cv2.cvtColor(crop, cv2.COLOR_RGB2GRAY) # for easy ocr\n",
    "                                            vechicle_number, conf = predict_number_plate(crop, ocr)\n",
    "                                            if vechicle_number and conf:\n",
    "                                                cvzone.putTextRect(img, f\"{vechicle_number} {round(conf*100, 2)}%\",\n",
    "                                                                   (x1, y1 - 50), scale=1.5, offset=10,\n",
    "                                                                   thickness=2, colorT=(39, 40, 41),\n",
    "                                                                   colorR=(105, 255, 255))\n",
    "                                        except Exception as e:\n",
    "                                            print(e)\n",
    "        # Display the frame\n",
    "        output.write(img)\n",
    "        cv2.imshow('Video', img)\n",
    "        li = list()\n",
    "        rider_box = list()\n",
    "\n",
    "        # Exit the program if the 'q' key is pressed\n",
    "        if cv2.waitKey(1) & 0xFF == ord('q'):\n",
    "            output.release()\n",
    "            break\n"
   ]
  },
  {
   "cell_type": "code",
   "execution_count": null,
   "id": "556496f2",
   "metadata": {
    "jupyter": {
     "source_hidden": true
    },
    "papermill": {
     "duration": null,
     "end_time": null,
     "exception": null,
     "start_time": null,
     "status": "pending"
    },
    "tags": []
   },
   "outputs": [],
   "source": [
    "model.predict(source='/kaggle/input/qerqwd/dc-Cover-d09s606c96le5d9e1orkkeerf5-20190911022556.Medi.jpeg',show=True,save=True,conf=0.5,save_crop=True,classes=[3])"
   ]
  },
  {
   "cell_type": "code",
   "execution_count": null,
   "id": "01a68dde",
   "metadata": {
    "papermill": {
     "duration": null,
     "end_time": null,
     "exception": null,
     "start_time": null,
     "status": "pending"
    },
    "tags": []
   },
   "outputs": [],
   "source": []
  },
  {
   "cell_type": "code",
   "execution_count": null,
   "id": "f42ff65a",
   "metadata": {
    "execution": {
     "iopub.execute_input": "2024-08-09T13:34:15.765232Z",
     "iopub.status.busy": "2024-08-09T13:34:15.764849Z",
     "iopub.status.idle": "2024-08-09T13:34:16.176900Z",
     "shell.execute_reply": "2024-08-09T13:34:16.175533Z",
     "shell.execute_reply.started": "2024-08-09T13:34:15.765201Z"
    },
    "papermill": {
     "duration": null,
     "end_time": null,
     "exception": null,
     "start_time": null,
     "status": "pending"
    },
    "tags": []
   },
   "outputs": [],
   "source": [
    "from ultralytics import YOLO\n",
    "import math\n",
    "import cv2\n",
    "import cvzone\n",
    "import torch\n",
    "from paddleocr import PaddleOCR\n",
    "\n",
    "cap = cv2.VideoCapture(\"/kaggle/input/video1/videoplayback.mp4\")  # For videos\n",
    "\n",
    "model = YOLO(\"/kaggle/working/runs/detect/train/weights/best.pt\") # after training update the location of best.pt\n",
    "\n",
    "device = torch.device(\"cuda\") # change to cuda for windows gpu or keep it as cpu\n",
    "\n",
    "classNames = [\"with helmet\", \"without helmet\", \"rider\", \"number plate\"]\n",
    "num = 0\n",
    "old_npconf = 0\n",
    "\n",
    "frame_width = int(cap.get(cv2.CAP_PROP_FRAME_WIDTH))\n",
    "frame_height = int(cap.get(cv2.CAP_PROP_FRAME_HEIGHT))\n",
    "fps = int(cap.get(cv2.CAP_PROP_FPS))\n",
    "\n",
    "fourcc = cv2.VideoWriter_fourcc(*'mp4v')\n",
    "output_path = '/kaggle/working/output1.mp4'\n",
    "output = cv2.VideoWriter(output_path, fourcc, fps, (frame_width, frame_height))\n",
    "\n",
    "ocr = PaddleOCR(use_angle_cls=True, lang='en')\n",
    "\n",
    "while True:\n",
    "    success, img = cap.read()\n",
    "    if not success:\n",
    "        break\n",
    "    new_img = cv2.cvtColor(img, cv2.COLOR_BGR2RGB)\n",
    "    results = model(new_img, stream=True, device=device)\n",
    "    for r in results:\n",
    "        boxes = r.boxes\n",
    "        li = dict()\n",
    "        rider_box = list()\n",
    "        xy = boxes.xyxy\n",
    "        confidences = boxes.conf\n",
    "        classes = boxes.cls\n",
    "        new_boxes = torch.cat((xy.to(device), confidences.unsqueeze(1).to(device), classes.unsqueeze(1).to(device)), 1)\n",
    "        try:\n",
    "            new_boxes = new_boxes[new_boxes[:, -1].sort()[1]]\n",
    "            indices = torch.where(new_boxes[:, -1] == 2)\n",
    "            rows = new_boxes[indices]\n",
    "            for box in rows:\n",
    "                x1, y1, x2, y2 = box[0], box[1], box[2], box[3]\n",
    "                x1, y1, x2, y2 = int(x1), int(y1), int(x2), int(y2)\n",
    "                rider_box.append((x1, y1, x2, y2))\n",
    "        except:\n",
    "            pass\n",
    "        for i, box in enumerate(new_boxes):\n",
    "            x1, y1, x2, y2 = box[0], box[1], box[2], box[3]\n",
    "            x1, y1, x2, y2 = int(x1), int(y1), int(x2), int(y2)\n",
    "            w, h = x2 - x1, y2 - y1\n",
    "            conf = math.ceil((box[4] * 100)) / 100\n",
    "            cls = int(box[5])\n",
    "            if cls >= len(classNames):\n",
    "                print(f\"Class index {cls} is out of range for classNames list.\")\n",
    "                continue\n",
    "            if classNames[cls] == \"without helmet\" and conf >= 0.5 or classNames[cls] == \"rider\" and conf >= 0.45 or \\\n",
    "                    classNames[cls] == \"number plate\" and conf >= 0.5:\n",
    "                if classNames[cls] == \"rider\":\n",
    "                    rider_box.append((x1, y1, x2, y2))\n",
    "                if rider_box:\n",
    "                    for j, rider in enumerate(rider_box):\n",
    "                        if x1 + 10 >= rider_box[j][0] and y1 + 10 >= rider_box[j][1] and x2 <= rider_box[j][2] and \\\n",
    "                                y2 <= rider_box[j][3]:\n",
    "                            cvzone.cornerRect(img, (x1, y1, w, h), l=15, rt=5, colorR=(255, 0, 0))\n",
    "                            cvzone.putTextRect(img, f\"{classNames[cls].upper()}\", (x1 + 10, y1 - 10), scale=1.5,\n",
    "                                               offset=10, thickness=2, colorT=(39, 40, 41), colorR=(248, 222, 34))\n",
    "                            li.setdefault(f\"rider{j}\", [])\n",
    "                            li[f\"rider{j}\"].append(classNames[cls])\n",
    "                            if classNames[cls] == \"number plate\":\n",
    "                                npx, npy, npw, nph, npconf = x1, y1, w, h, conf\n",
    "                                crop = img[npy:npy + h, npx:npx + w]\n",
    "                        if li:\n",
    "                            for key, value in li.items():\n",
    "                                if key == f\"rider{j}\":\n",
    "                                    if len(list(set(li[f\"rider{j}\"]))) == 3:\n",
    "                                        try:\n",
    "                                            vechicle_number, conf = predict_number_plate(crop, ocr)\n",
    "                                            if vechicle_number and conf:\n",
    "                                                cvzone.putTextRect(img, f\"{vechicle_number} {round(conf*100, 2)}%\",\n",
    "                                                                   (x1, y1 - 50), scale=1.5, offset=10,\n",
    "                                                                   thickness=2, colorT=(39, 40, 41),\n",
    "                                                                   colorR=(105, 255, 255))\n",
    "                                        except Exception as e:\n",
    "                                            print(e)\n",
    "        output.write(img)\n",
    "        li = list()\n",
    "        rider_box = list()\n",
    "\n",
    "output.release()\n"
   ]
  },
  {
   "cell_type": "code",
   "execution_count": null,
   "id": "0e93ce83",
   "metadata": {
    "execution": {
     "iopub.execute_input": "2024-08-09T08:34:26.131782Z",
     "iopub.status.busy": "2024-08-09T08:34:26.131368Z"
    },
    "papermill": {
     "duration": null,
     "end_time": null,
     "exception": null,
     "start_time": null,
     "status": "pending"
    },
    "tags": []
   },
   "outputs": [],
   "source": [
    "from ultralytics import YOLO\n",
    "import math\n",
    "import cv2\n",
    "import cvzone\n",
    "import torch\n",
    "from paddleocr import PaddleOCR\n",
    "\n",
    "# Initialize video capture\n",
    "cap = cv2.VideoCapture(\"/kaggle/input/videos/video.mp4\")  # For videos\n",
    "\n",
    "# Load YOLO model\n",
    "model = YOLO(\"/kaggle/working/runs/detect/train/weights/best.pt\")  # Update the path as needed\n",
    "\n",
    "# Set device\n",
    "device = torch.device(\"cuda\" if torch.cuda.is_available() else \"cpu\")  # Use CUDA if available\n",
    "\n",
    "# Define class names\n",
    "classNames = [\"with helmet\", \"without helmet\", \"rider\", \"number plate\"]\n",
    "\n",
    "# Initialize variables\n",
    "num = 0\n",
    "old_npconf = 0\n",
    "\n",
    "# Video properties\n",
    "frame_width = int(cap.get(cv2.CAP_PROP_FRAME_WIDTH))\n",
    "frame_height = int(cap.get(cv2.CAP_PROP_FRAME_HEIGHT))\n",
    "fps = int(cap.get(cv2.CAP_PROP_FPS))\n",
    "\n",
    "# Initialize video writer\n",
    "fourcc = cv2.VideoWriter_fourcc(*'mp4v')\n",
    "output_path = '/kaggle/working/output.mp4'\n",
    "output = cv2.VideoWriter(output_path, fourcc, fps, (frame_width, frame_height))\n",
    "\n",
    "# Initialize OCR\n",
    "ocr = PaddleOCR(use_angle_cls=True, lang='en')\n",
    "\n",
    "while True:\n",
    "    success, img = cap.read()\n",
    "    if not success:\n",
    "        break\n",
    "\n",
    "    # Convert image to RGB\n",
    "    new_img = cv2.cvtColor(img, cv2.COLOR_BGR2RGB)\n",
    "    \n",
    "    # Run YOLO model\n",
    "    results = model(new_img, stream=True, device=device)\n",
    "    \n",
    "    for r in results:\n",
    "        boxes = r.boxes\n",
    "        li = dict()\n",
    "        rider_box = list()\n",
    "        xy = boxes.xyxy\n",
    "        confidences = boxes.conf\n",
    "        classes = boxes.cls\n",
    "        \n",
    "        # Combine boxes data\n",
    "        new_boxes = torch.cat((xy.to(device), confidences.unsqueeze(1).to(device), classes.unsqueeze(1).to(device)), 1)\n",
    "        \n",
    "        try:\n",
    "            # Sort boxes by class index\n",
    "            new_boxes = new_boxes[new_boxes[:, -1].sort()[1]]\n",
    "            indices = torch.where(new_boxes[:, -1] == 2)\n",
    "            rows = new_boxes[indices]\n",
    "            for box in rows:\n",
    "                x1, y1, x2, y2 = box[0], box[1], box[2], box[3]\n",
    "                x1, y1, x2, y2 = int(x1), int(y1), int(x2), int(y2)\n",
    "                rider_box.append((x1, y1, x2, y2))\n",
    "        except Exception as e:\n",
    "            print(f\"Error processing boxes: {e}\")\n",
    "        \n",
    "        for i, box in enumerate(new_boxes):\n",
    "            x1, y1, x2, y2 = box[0], box[1], box[2], box[3]\n",
    "            x1, y1, x2, y2 = int(x1), int(y1), int(x2), int(y2)\n",
    "            w, h = x2 - x1, y2 - y1\n",
    "            conf = math.ceil((box[4] * 100)) / 100\n",
    "            cls = int(box[5])\n",
    "            \n",
    "            # Debug print for class index and number of classes\n",
    "            print(f\"Detected class index: {cls}, Number of classes: {len(classNames)}\")\n",
    "            \n",
    "            if cls >= len(classNames):\n",
    "                print(f\"Class index {cls} is out of range for classNames list.\")\n",
    "                continue\n",
    "            \n",
    "            if classNames[cls] == \"without helmet\" and conf >= 0.5 or classNames[cls] == \"rider\" and conf >= 0.45 or \\\n",
    "                    classNames[cls] == \"number plate\" and conf >= 0.5:\n",
    "                if classNames[cls] == \"rider\":\n",
    "                    rider_box.append((x1, y1, x2, y2))\n",
    "                if rider_box:\n",
    "                    for j, rider in enumerate(rider_box):\n",
    "                        if x1 + 10 >= rider_box[j][0] and y1 + 10 >= rider_box[j][1] and x2 <= rider_box[j][2] and \\\n",
    "                                y2 <= rider_box[j][3]:\n",
    "                            cvzone.cornerRect(img, (x1, y1, w, h), l=15, rt=5, colorR=(255, 0, 0))\n",
    "                            cvzone.putTextRect(img, f\"{classNames[cls].upper()}\", (x1 + 10, y1 - 10), scale=1.5,\n",
    "                                               offset=10, thickness=2, colorT=(39, 40, 41), colorR=(248, 222, 34))\n",
    "                            li.setdefault(f\"rider{j}\", [])\n",
    "                            li[f\"rider{j}\"].append(classNames[cls])\n",
    "                            if classNames[cls] == \"number plate\":\n",
    "                                npx, npy, npw, nph, npconf = x1, y1, w, h, conf\n",
    "                                crop = img[npy:npy + h, npx:npx + w]\n",
    "                        if li:\n",
    "                            for key, value in li.items():\n",
    "                                if key == f\"rider{j}\":\n",
    "                                    if len(list(set(li[f\"rider{j}\"]))) == 3:\n",
    "                                        try:\n",
    "                                            vechicle_number, conf = predict_number_plate(crop, ocr)\n",
    "                                            if vechicle_number and conf:\n",
    "                                                cvzone.putTextRect(img, f\"{vechicle_number} {round(conf*100, 2)}%\",\n",
    "                                                                   (x1, y1 - 50), scale=1.5, offset=10,\n",
    "                                                                   thickness=2, colorT=(39, 40, 41),\n",
    "                                                                   colorR=(105, 255, 255))\n",
    "                                        except Exception as e:\n",
    "                                            print(f\"Error predicting number plate: {e}\")\n",
    "\n",
    "    # Write processed frame to output\n",
    "    output.write(img)\n",
    "    li = list()\n",
    "    rider_box = list()\n",
    "\n",
    "# Release video capture and writer\n",
    "output.release()\n"
   ]
  },
  {
   "cell_type": "code",
   "execution_count": null,
   "id": "b146da3a",
   "metadata": {
    "execution": {
     "iopub.execute_input": "2024-08-09T13:50:02.519259Z",
     "iopub.status.busy": "2024-08-09T13:50:02.518628Z",
     "iopub.status.idle": "2024-08-09T13:50:28.216592Z",
     "shell.execute_reply": "2024-08-09T13:50:28.215748Z",
     "shell.execute_reply.started": "2024-08-09T13:50:02.519226Z"
    },
    "papermill": {
     "duration": null,
     "end_time": null,
     "exception": null,
     "start_time": null,
     "status": "pending"
    },
    "tags": []
   },
   "outputs": [],
   "source": [
    "## Change here\n",
    "\n",
    "from ultralytics import YOLO\n",
    "import math\n",
    "import cv2\n",
    "import cvzone\n",
    "import torch\n",
    "from paddleocr import PaddleOCR\n",
    "\n",
    "# Initialize video capture\n",
    "cap = cv2.VideoCapture(\"/kaggle/input/video1/videoplayback.mp4\")  # For videos\n",
    "\n",
    "# Load YOLO model\n",
    "model = YOLO(\"/kaggle/working/runs/detect/train/weights/best.pt\")  # Update the path as needed\n",
    "\n",
    "# Set device\n",
    "device = torch.device(\"cuda\" if torch.cuda.is_available() else \"cpu\")  # Use CUDA if available\n",
    "\n",
    "# Define class names\n",
    "classNames = [\"with helmet\", \"without helmet\", \"rider\", \"number plate\"]\n",
    "\n",
    "# Initialize variables\n",
    "num = 0\n",
    "old_npconf = 0\n",
    "\n",
    "# Video properties\n",
    "frame_width = int(cap.get(cv2.CAP_PROP_FRAME_WIDTH))\n",
    "frame_height = int(cap.get(cv2.CAP_PROP_FRAME_HEIGHT))\n",
    "fps = int(cap.get(cv2.CAP_PROP_FPS))\n",
    "\n",
    "# Initialize video writer\n",
    "fourcc = cv2.VideoWriter_fourcc(*'mp4v')\n",
    "output_path = '/kaggle/working/output1.mp4'\n",
    "output = cv2.VideoWriter(output_path, fourcc, fps, (frame_width, frame_height))\n",
    "\n",
    "# Check if VideoWriter is initialized correctly\n",
    "if not output.isOpened():\n",
    "    print(f\"Error: Could not open video writer for {output_path}\")\n",
    "\n",
    "# Initialize OCR\n",
    "ocr = PaddleOCR(use_angle_cls=True, lang='en')\n",
    "\n",
    "while True:\n",
    "    success, img = cap.read()\n",
    "    if not success:\n",
    "        print(\"End of video or error reading frame.\")\n",
    "        break\n",
    "\n",
    "    # Convert image to RGB\n",
    "    new_img = cv2.cvtColor(img, cv2.COLOR_BGR2RGB)\n",
    "    \n",
    "    # Run YOLO model\n",
    "    results = model(new_img, stream=True, device=device)\n",
    "    \n",
    "    for r in results:\n",
    "        boxes = r.boxes\n",
    "        li = dict()\n",
    "        rider_box = list()\n",
    "        xy = boxes.xyxy\n",
    "        confidences = boxes.conf\n",
    "        classes = boxes.cls\n",
    "        \n",
    "        # Combine boxes data\n",
    "        new_boxes = torch.cat((xy.to(device), confidences.unsqueeze(1).to(device), classes.unsqueeze(1).to(device)), 1)\n",
    "        \n",
    "        try:\n",
    "            # Sort boxes by class index\n",
    "            new_boxes = new_boxes[new_boxes[:, -1].sort()[1]]\n",
    "            indices = torch.where(new_boxes[:, -1] == 2)\n",
    "            rows = new_boxes[indices]\n",
    "            for box in rows:\n",
    "                x1, y1, x2, y2 = box[0], box[1], box[2], box[3]\n",
    "                x1, y1, x2, y2 = int(x1), int(y1), int(x2), int(y2)\n",
    "                rider_box.append((x1, y1, x2, y2))\n",
    "        except Exception as e:\n",
    "            print(f\"Error processing boxes: {e}\")\n",
    "        \n",
    "        for i, box in enumerate(new_boxes):\n",
    "            x1, y1, x2, y2 = box[0], box[1], box[2], box[3]\n",
    "            x1, y1, x2, y2 = int(x1), int(y1), int(x2), int(y2)\n",
    "            w, h = x2 - x1, y2 - y1\n",
    "            conf = math.ceil((box[4] * 100)) / 100\n",
    "            cls = int(box[5])\n",
    "            \n",
    "#             # Debug print for class index and number of classes\n",
    "#             print(f\"Detected class index: {cls}, Number of classes: {len(classNames)}\")\n",
    "            \n",
    "            if cls >= len(classNames):\n",
    "#                 print(f\"Class index {cls} is out of range for classNames list.\")\n",
    "                continue\n",
    "            \n",
    "            if classNames[cls] == \"without helmet\" and conf >= 0.5 or classNames[cls] == \"rider\" and conf >= 0.45 or \\\n",
    "                    classNames[cls] == \"number plate\" and conf >= 0.5:\n",
    "                if classNames[cls] == \"rider\":\n",
    "                    rider_box.append((x1, y1, x2, y2))\n",
    "                if rider_box:\n",
    "                    for j, rider in enumerate(rider_box):\n",
    "                        if x1 + 10 >= rider_box[j][0] and y1 + 10 >= rider_box[j][1] and x2 <= rider_box[j][2] and \\\n",
    "                                y2 <= rider_box[j][3]:\n",
    "                            cvzone.cornerRect(img, (x1, y1, w, h), l=15, rt=5, colorR=(255, 0, 0))\n",
    "                            cvzone.putTextRect(img, f\"{classNames[cls].upper()}\", (x1 + 10, y1 - 10), scale=1.5,\n",
    "                                               offset=10, thickness=2, colorT=(39, 40, 41), colorR=(248, 222, 34))\n",
    "                            li.setdefault(f\"rider{j}\", [])\n",
    "                            li[f\"rider{j}\"].append(classNames[cls])\n",
    "                            if classNames[cls] == \"number plate\":\n",
    "                                npx, npy, npw, nph, npconf = x1, y1, w, h, conf\n",
    "                                crop = img[npy:npy + h, npx:npx + w]\n",
    "                        if li:\n",
    "                            for key, value in li.items():\n",
    "                                if key == f\"rider{j}\":\n",
    "                                    if len(list(set(li[f\"rider{j}\"]))) == 3:\n",
    "                                        try:\n",
    "                                            vechicle_number, conf = predict_number_plate(crop, ocr)\n",
    "                                            if vechicle_number and conf:\n",
    "                                                cvzone.putTextRect(img, f\"{vechicle_number} {round(conf*100, 2)}%\",\n",
    "                                                                   (x1, y1 - 50), scale=1.5, offset=10,\n",
    "                                                                   thickness=2, colorT=(39, 40, 41),\n",
    "                                                                   colorR=(105, 255, 255))\n",
    "                                        except Exception as e:\n",
    "                                            print(f\"Error predicting number plate: {e}\")\n",
    "\n",
    "    # Write processed frame to output\n",
    "    if not output.isOpened():\n",
    "        print(f\"Error: Video writer is not opened.\")\n",
    "    else:\n",
    "        output.write(img)\n",
    "\n",
    "    li = list()\n",
    "    rider_box = list()\n",
    "\n",
    "# Release video capture and writer\n",
    "cap.release()\n",
    "output.release()\n",
    "print(f\"Video processing completed. Output saved to {output_path}.\")\n"
   ]
  },
  {
   "cell_type": "code",
   "execution_count": null,
   "id": "ec3fb243",
   "metadata": {
    "papermill": {
     "duration": null,
     "end_time": null,
     "exception": null,
     "start_time": null,
     "status": "pending"
    },
    "tags": []
   },
   "outputs": [],
   "source": []
  }
 ],
 "metadata": {
  "kaggle": {
   "accelerator": "nvidiaTeslaT4",
   "dataSources": [
    {
     "datasetId": 4527644,
     "sourceId": 7760820,
     "sourceType": "datasetVersion"
    },
    {
     "datasetId": 5519163,
     "sourceId": 9138761,
     "sourceType": "datasetVersion"
    },
    {
     "datasetId": 5520859,
     "sourceId": 9141066,
     "sourceType": "datasetVersion"
    }
   ],
   "dockerImageVersionId": 30747,
   "isGpuEnabled": true,
   "isInternetEnabled": true,
   "language": "python",
   "sourceType": "notebook"
  },
  "kernelspec": {
   "display_name": "Python 3",
   "language": "python",
   "name": "python3"
  },
  "language_info": {
   "codemirror_mode": {
    "name": "ipython",
    "version": 3
   },
   "file_extension": ".py",
   "mimetype": "text/x-python",
   "name": "python",
   "nbconvert_exporter": "python",
   "pygments_lexer": "ipython3",
   "version": "3.10.13"
  },
  "papermill": {
   "default_parameters": {},
   "duration": 355.230873,
   "end_time": "2024-08-09T13:58:31.702283",
   "environment_variables": {},
   "exception": true,
   "input_path": "__notebook__.ipynb",
   "output_path": "__notebook__.ipynb",
   "parameters": {},
   "start_time": "2024-08-09T13:52:36.471410",
   "version": "2.5.0"
  }
 },
 "nbformat": 4,
 "nbformat_minor": 5
}
